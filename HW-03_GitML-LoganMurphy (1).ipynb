{
 "cells": [
  {
   "cell_type": "markdown",
   "metadata": {},
   "source": [
    "### <p style=\"text-align: right;\"> &#9989; Put your name here.</p>"
   ]
  },
  {
   "cell_type": "markdown",
   "metadata": {},
   "source": [
    "# CMSE 202 Homework 03\n",
    "\n",
    "\n",
    "\n",
    "\n",
    "\n",
    "\n",
    "### Assignment instructions\n",
    "\n",
    "Work through the following assignment, making sure to follow all of the directions and answer all of the questions.\n",
    "\n",
    "There are **25 points** possible on this assignment. Point values for each part are included in the section headers.\n",
    "\n",
    "This assignment is due at 11:59 pm on **Friday October 23rd**. It should be uploaded into the \"Homework Assignments\" submission folder for Homework 3 in your D2L webpage. Submission instructions can be found at the end of the notebook.\n",
    "\n",
    "**Hint**: It is possible you are asked to do something you are not familiar with. That's why you have internet access. Do some smart searches and see what you can find! \n",
    "\n",
    "\n",
    "### Our imports"
   ]
  },
  {
   "cell_type": "code",
   "execution_count": 140,
   "metadata": {},
   "outputs": [],
   "source": [
    "import pandas as pd\n",
    "import matplotlib.pyplot as plt\n",
    "import numpy as np\n",
    "from sklearn.preprocessing import StandardScaler\n",
    "from sklearn.model_selection import train_test_split\n",
    "from sklearn.neighbors import KNeighborsClassifier\n",
    "from sklearn import metrics\n",
    "import statsmodels.api as sm\n",
    "from sklearn.model_selection import cross_val_score\n",
    "from sklearn.model_selection import GridSearchCV\n",
    "from sklearn.metrics import confusion_matrix\n",
    "import seaborn as sea\n",
    "from sklearn.svm import SVC\n",
    "from sklearn.metrics import classification_report"
   ]
  },
  {
   "cell_type": "markdown",
   "metadata": {},
   "source": [
    "## Part 1: Setting up a repository for tracking changes (3 points)\n",
    "\n",
    "For this assignment, you're going to add it to the CMSE202 repository you created in class so that you can track your progress on the assignment and preserve the final version that you turn in. In order to do this you need to:\n",
    "\n",
    "* Navigate to your `/CMSE202/repos` repository and create a new directory called `hw-03`.\n",
    "* Move this notebook into that new directory in your repository, then add it and commit it to your repository.\n",
    " * Finally, to test that everything is working, \"git push\" the file so that it ends up in your GitHub repository.\n",
    "\n",
    "Important: Make sure you've added your TA as a collaborators\\ to your respository with \"Read\" access so that we can see your assignment.\n",
    "\n",
    "* Section 001:  tuethan\n",
    "* Section 002:  Luis-Polanco\n",
    "* Section 003:  DavidRimel\n",
    "\n",
    "Also important: Make sure that the version of this notebook that you are working on is the same one that you just added to your repository! If you are working on a different copy of the noteobok, none of your changes will be tracked.\n",
    "\n",
    "\n",
    "If everything went as intended, the file should now show up on your GitHub account CMSE202 repository under the `hw-03` directory that you just created. Periodically, you'll be asked to commit your changes to the repository and push them to the remote GitHub location. Of course, you can always commit your changes more often than that, if you wish. It can be good to get into a habit of committing your changes any time you make a significant modification, or when you stop working on the project for a bit."
   ]
  },
  {
   "cell_type": "markdown",
   "metadata": {},
   "source": [
    "## Part 2: Load, prepare and plot the data (5 points)\n",
    "\n",
    "In this homework we will be working with the yeast dataset and building logistic regression and k-nearest neighbors classifier class. The data file is *yeast.data* and its description is in *yeast.names*. Read the description and get a sense of the meaning of the dataset. In this part, we will load and clean up the data."
   ]
  },
  {
   "cell_type": "markdown",
   "metadata": {},
   "source": [
    "**Question 2.1 (1 point)** Load the *yeast.data* as a pandas dataframe and give appropriate names to the columns. Then drop the columns **sequence name**, **pox** and **vac**. What's the size of this dataset now?"
   ]
  },
  {
   "cell_type": "code",
   "execution_count": 133,
   "metadata": {},
   "outputs": [
    {
     "name": "stdout",
     "output_type": "stream",
     "text": [
      "The size of the data is: (1483, 7)\n"
     ]
    }
   ],
   "source": [
    "### Put your code here ###\n",
    "data = pd.read_fwf(\"yeast.data\") \n",
    "data.set_axis(['Sequence Name','mcg','gvh','alm','mit','erl','pox','vac','nuc','class'], axis=1, inplace= True)\n",
    "yeast = data.drop(['Sequence Name', 'pox','vac'], axis = 1)\n",
    "print('The size of the data is:', yeast.shape)"
   ]
  },
  {
   "cell_type": "markdown",
   "metadata": {},
   "source": [
    "**Question 2.2 (1 point)** Find the number of unqiue entries in the class label column"
   ]
  },
  {
   "cell_type": "code",
   "execution_count": 134,
   "metadata": {},
   "outputs": [
    {
     "name": "stdout",
     "output_type": "stream",
     "text": [
      "There are 10 unique entries in the class label column.\n"
     ]
    }
   ],
   "source": [
    "### Put your code here ###\n",
    "labels = pd.unique(yeast.loc[:,'class'])\n",
    "print(f'There are {len(labels)} unique entries in the class label column.')"
   ]
  },
  {
   "cell_type": "markdown",
   "metadata": {},
   "source": [
    "**Question 2.3 (1 point)** We are only interested in data with label **CYT (cytosolic or cytoskeletal)** and **MIT (mitochondrial)**. Make a new dataframe containing\n",
    "data with only these two types of labels, and redefine label **CYT** into **0**, and **MIT** into **1**. What's the size of the dataset now?"
   ]
  },
  {
   "cell_type": "code",
   "execution_count": 135,
   "metadata": {},
   "outputs": [
    {
     "name": "stdout",
     "output_type": "stream",
     "text": [
      "The size of the data is now: (706, 6)\n"
     ]
    }
   ],
   "source": [
    "### Put your code here ###\n",
    "mit_yeast = (yeast['class'] == ('MIT'))\n",
    "cyt_yeast = (yeast['class'] == ('CYT'))\n",
    "mit = yeast[mit_yeast]\n",
    "cyt = yeast[cyt_yeast]\n",
    "yeast_bool = [mit,cyt]\n",
    "yeast_data = pd.concat(yeast_bool)\n",
    "class_labels = yeast_data['class'].replace({'CYT':0, 'MIT':1})\n",
    "data = yeast_data.drop(['class'],axis=1)\n",
    "print('The size of the data is now:', data.shape)"
   ]
  },
  {
   "cell_type": "code",
   "execution_count": null,
   "metadata": {},
   "outputs": [],
   "source": []
  },
  {
   "cell_type": "markdown",
   "metadata": {},
   "source": [
    "**Question 2.4 (2 points)** Make a scatter plot including every sample in the dataset with: the mcg feature on the x-axis, the gvh feature on the y-axis, and different colors for each class label. Make your observation. Are the two classes distinguishable using only those two features?"
   ]
  },
  {
   "cell_type": "code",
   "execution_count": 136,
   "metadata": {},
   "outputs": [
    {
     "data": {
      "text/plain": [
       "Text(0.5, 1.0, 'mcg v. gvh')"
      ]
     },
     "execution_count": 136,
     "metadata": {},
     "output_type": "execute_result"
    },
    {
     "data": {
      "image/png": "[encoded data removed]",
      "text/plain": [
       "<Figure size 432x288 with 1 Axes>"
      ]
     },
     "metadata": {
      "needs_background": "light"
     },
     "output_type": "display_data"
    }
   ],
   "source": [
    "### Put your code here ###\n",
    "color_set = ['blue','purple']\n",
    "colors = [color_set[element] for element in class_labels]\n",
    "plt.scatter(yeast_data['mcg'],yeast_data['gvh'],c=colors)\n",
    "plt.xlabel('mcg')\n",
    "plt.ylabel('gvh')\n",
    "plt.title('mcg v. gvh')"
   ]
  },
  {
   "cell_type": "markdown",
   "metadata": {},
   "source": [
    "# Logistic Regression\n",
    "\n",
    "In the next part we will build a logistic regression model for the data classification.\n",
    "\n",
    "## Part 3: Prepare data and build the logistic regression model (7 points)\n"
   ]
  },
  {
   "cell_type": "markdown",
   "metadata": {},
   "source": [
    "**Question 3.1 (2 points)** Apply the \"train_test_split\" function in the *sklearn* package to split the data in 70% for training and 30% for testing.  Using common variable names like x_train, y_train, x_test and y_test might help later."
   ]
  },
  {
   "cell_type": "code",
   "execution_count": 152,
   "metadata": {},
   "outputs": [],
   "source": [
    "### Put your code here ###\n",
    "train_label, test_label, train_vectors, test_vectors = train_test_split(class_labels , data, test_size = .30, train_size = .70)"
   ]
  },
  {
   "cell_type": "markdown",
   "metadata": {},
   "source": [
    "**Question 3.2 (2 points)** Perform the logistic regression. \n",
    "* Discuss your results. How well does your model fit your data? What evidence are you using to make the determination? \n",
    "* Based on the P values under \"P > |z|\", which two features **in this dataset** are the least significant and can be dropped?"
   ]
  },
  {
   "cell_type": "code",
   "execution_count": 153,
   "metadata": {},
   "outputs": [
    {
     "name": "stdout",
     "output_type": "stream",
     "text": [
      "Fitting the classifier to the training set\n",
      "Best estimator found by grid search:\n",
      "SVC(C=50000.0, class_weight='balanced', gamma=0.0001, kernel='linear')\n"
     ]
    }
   ],
   "source": [
    "\n",
    "#make some temporary variables so you can change this easily\n",
    "tmp_vectors = train_vectors\n",
    "tmp_labels = train_label\n",
    "\n",
    "print(\"Fitting the classifier to the training set\")\n",
    "# a dictionary of hyperparameters: key is the name of the parameter, value is a list of values to test\n",
    "param_grid = {'C': [1e3, 5e3, 1e4, 5e4, 1e5],\n",
    "              'gamma': [0.0001, 0.0005, 0.001, 0.005, 0.01, 0.1], }\n",
    "# make a classifier by searching over a classifier and the parameter grid\n",
    "clf = GridSearchCV(SVC(kernel='linear', class_weight='balanced'), param_grid)\n",
    "\n",
    "# we have a \"good\" classifier (according to GridSearchCV), how's it look\n",
    "clf = clf.fit(tmp_vectors, tmp_labels)\n",
    "print(\"Best estimator found by grid search:\")\n",
    "print(clf.best_estimator_)\n"
   ]
  },
  {
   "cell_type": "code",
   "execution_count": 154,
   "metadata": {},
   "outputs": [
    {
     "name": "stdout",
     "output_type": "stream",
     "text": [
      "Predicting names on the test set\n",
      "              precision    recall  f1-score   support\n",
      "\n",
      "           0       0.86      0.86      0.86       139\n",
      "           1       0.73      0.74      0.73        73\n",
      "\n",
      "    accuracy                           0.82       212\n",
      "   macro avg       0.80      0.80      0.80       212\n",
      "weighted avg       0.82      0.82      0.82       212\n",
      "\n",
      "[[119  20]\n",
      " [ 19  54]]\n"
     ]
    }
   ],
   "source": [
    "clf.predict(test_vectors)\n",
    "###############################################################################\n",
    "# Quantitative evaluation of the model quality on the test set\n",
    "\n",
    "#make some temporary variables so you can change this easily\n",
    "predict_vectors = test_vectors\n",
    "true_labels = test_label\n",
    "\n",
    "print(\"Predicting names on the test set\")\n",
    "pred_labels = clf.predict(predict_vectors)\n",
    "\n",
    "print(classification_report(true_labels, pred_labels))\n",
    "print(confusion_matrix(true_labels, pred_labels, labels=range(2)))\n",
    "accuracy = round(metrics.accuracy_score(true_labels, pred_labels),2)"
   ]
  },
  {
   "cell_type": "code",
   "execution_count": 155,
   "metadata": {},
   "outputs": [
    {
     "data": {
      "text/html": [
       "<table class=\"simpletable\">\n",
       "<caption>OLS Regression Results</caption>\n",
       "<tr>\n",
       "  <th>Dep. Variable:</th>          <td>class</td>      <th>  R-squared (uncentered):</th>      <td>   0.577</td> \n",
       "</tr>\n",
       "<tr>\n",
       "  <th>Model:</th>                   <td>OLS</td>       <th>  Adj. R-squared (uncentered):</th> <td>   0.573</td> \n",
       "</tr>\n",
       "<tr>\n",
       "  <th>Method:</th>             <td>Least Squares</td>  <th>  F-statistic:       </th>          <td>   158.9</td> \n",
       "</tr>\n",
       "<tr>\n",
       "  <th>Date:</th>             <td>Fri, 23 Oct 2020</td> <th>  Prob (F-statistic):</th>          <td>4.41e-127</td>\n",
       "</tr>\n",
       "<tr>\n",
       "  <th>Time:</th>                 <td>02:42:01</td>     <th>  Log-Likelihood:    </th>          <td> -321.82</td> \n",
       "</tr>\n",
       "<tr>\n",
       "  <th>No. Observations:</th>      <td>   706</td>      <th>  AIC:               </th>          <td>   655.6</td> \n",
       "</tr>\n",
       "<tr>\n",
       "  <th>Df Residuals:</th>          <td>   700</td>      <th>  BIC:               </th>          <td>   683.0</td> \n",
       "</tr>\n",
       "<tr>\n",
       "  <th>Df Model:</th>              <td>     6</td>      <th>                     </th>              <td> </td>    \n",
       "</tr>\n",
       "<tr>\n",
       "  <th>Covariance Type:</th>      <td>nonrobust</td>    <th>                     </th>              <td> </td>    \n",
       "</tr>\n",
       "</table>\n",
       "<table class=\"simpletable\">\n",
       "<tr>\n",
       "   <td></td>      <th>coef</th>     <th>std err</th>      <th>t</th>      <th>P>|t|</th>  <th>[0.025</th>    <th>0.975]</th>  \n",
       "</tr>\n",
       "<tr>\n",
       "  <th>mcg</th> <td>    0.2027</td> <td>    0.145</td> <td>    1.394</td> <td> 0.164</td> <td>   -0.083</td> <td>    0.488</td>\n",
       "</tr>\n",
       "<tr>\n",
       "  <th>gvh</th> <td>    0.9394</td> <td>    0.157</td> <td>    5.997</td> <td> 0.000</td> <td>    0.632</td> <td>    1.247</td>\n",
       "</tr>\n",
       "<tr>\n",
       "  <th>alm</th> <td>   -0.5448</td> <td>    0.183</td> <td>   -2.974</td> <td> 0.003</td> <td>   -0.904</td> <td>   -0.185</td>\n",
       "</tr>\n",
       "<tr>\n",
       "  <th>mit</th> <td>    1.5090</td> <td>    0.092</td> <td>   16.393</td> <td> 0.000</td> <td>    1.328</td> <td>    1.690</td>\n",
       "</tr>\n",
       "<tr>\n",
       "  <th>erl</th> <td>   -0.5659</td> <td>    0.261</td> <td>   -2.167</td> <td> 0.031</td> <td>   -1.079</td> <td>   -0.053</td>\n",
       "</tr>\n",
       "<tr>\n",
       "  <th>nuc</th> <td>   -0.3179</td> <td>    0.169</td> <td>   -1.883</td> <td> 0.060</td> <td>   -0.649</td> <td>    0.014</td>\n",
       "</tr>\n",
       "</table>\n",
       "<table class=\"simpletable\">\n",
       "<tr>\n",
       "  <th>Omnibus:</th>       <td>39.013</td> <th>  Durbin-Watson:     </th> <td>   0.631</td>\n",
       "</tr>\n",
       "<tr>\n",
       "  <th>Prob(Omnibus):</th> <td> 0.000</td> <th>  Jarque-Bera (JB):  </th> <td>  44.214</td>\n",
       "</tr>\n",
       "<tr>\n",
       "  <th>Skew:</th>          <td> 0.609</td> <th>  Prob(JB):          </th> <td>2.51e-10</td>\n",
       "</tr>\n",
       "<tr>\n",
       "  <th>Kurtosis:</th>      <td> 3.148</td> <th>  Cond. No.          </th> <td>    23.2</td>\n",
       "</tr>\n",
       "</table><br/><br/>Warnings:<br/>[1] Standard Errors assume that the covariance matrix of the errors is correctly specified."
      ],
      "text/plain": [
       "<class 'statsmodels.iolib.summary.Summary'>\n",
       "\"\"\"\n",
       "                                 OLS Regression Results                                \n",
       "=======================================================================================\n",
       "Dep. Variable:                  class   R-squared (uncentered):                   0.577\n",
       "Model:                            OLS   Adj. R-squared (uncentered):              0.573\n",
       "Method:                 Least Squares   F-statistic:                              158.9\n",
       "Date:                Fri, 23 Oct 2020   Prob (F-statistic):                   4.41e-127\n",
       "Time:                        02:42:01   Log-Likelihood:                         -321.82\n",
       "No. Observations:                 706   AIC:                                      655.6\n",
       "Df Residuals:                     700   BIC:                                      683.0\n",
       "Df Model:                           6                                                  \n",
       "Covariance Type:            nonrobust                                                  \n",
       "==============================================================================\n",
       "                 coef    std err          t      P>|t|      [0.025      0.975]\n",
       "------------------------------------------------------------------------------\n",
       "mcg            0.2027      0.145      1.394      0.164      -0.083       0.488\n",
       "gvh            0.9394      0.157      5.997      0.000       0.632       1.247\n",
       "alm           -0.5448      0.183     -2.974      0.003      -0.904      -0.185\n",
       "mit            1.5090      0.092     16.393      0.000       1.328       1.690\n",
       "erl           -0.5659      0.261     -2.167      0.031      -1.079      -0.053\n",
       "nuc           -0.3179      0.169     -1.883      0.060      -0.649       0.014\n",
       "==============================================================================\n",
       "Omnibus:                       39.013   Durbin-Watson:                   0.631\n",
       "Prob(Omnibus):                  0.000   Jarque-Bera (JB):               44.214\n",
       "Skew:                           0.609   Prob(JB):                     2.51e-10\n",
       "Kurtosis:                       3.148   Cond. No.                         23.2\n",
       "==============================================================================\n",
       "\n",
       "Warnings:\n",
       "[1] Standard Errors assume that the covariance matrix of the errors is correctly specified.\n",
       "\"\"\""
      ]
     },
     "execution_count": 155,
     "metadata": {},
     "output_type": "execute_result"
    }
   ],
   "source": [
    "model = sm.OLS(class_labels,data)\n",
    "results = model.fit()\n",
    "results.summary()"
   ]
  },
  {
   "cell_type": "code",
   "execution_count": 159,
   "metadata": {},
   "outputs": [
    {
     "name": "stdout",
     "output_type": "stream",
     "text": [
      "const    0.474304\n",
      "mcg      0.000001\n",
      "dtype: float64\n",
      "const    1.707010e-05\n",
      "gvh      1.305236e-16\n",
      "dtype: float64\n",
      "const    1.155614e-08\n",
      "alm      9.151641e-04\n",
      "dtype: float64\n",
      "const    2.234483e-04\n",
      "mit      3.022485e-53\n",
      "dtype: float64\n",
      "const    0.004073\n",
      "erl      0.146627\n",
      "dtype: float64\n",
      "const    2.024013e-16\n",
      "nuc      1.519385e-02\n",
      "dtype: float64\n"
     ]
    }
   ],
   "source": [
    "### Put your code here ###\n",
    "#Getting all of the predictions and models set up\n",
    "x_ary1 = data['mcg']   \n",
    "x_ary2 = data['gvh']\n",
    "x_ary3 = data['alm']  \n",
    "x_ary4 = data['mit']   \n",
    "x_ary5 = data['erl']  \n",
    "x_ary6 = data['nuc'] \n",
    "y_ary = class_labels     \n",
    "         \n",
    "x_with_cnst1 = sm.add_constant(x_ary1)\n",
    "x_with_cnst2 = sm.add_constant(x_ary2)\n",
    "x_with_cnst3 = sm.add_constant(x_ary3)\n",
    "x_with_cnst4 = sm.add_constant(x_ary4)\n",
    "x_with_cnst5 = sm.add_constant(x_ary5)\n",
    "x_with_cnst6 = sm.add_constant(x_ary6)\n",
    "\n",
    "model1 = sm.OLS(y_ary, x_with_cnst1)\n",
    "model2 = sm.OLS(y_ary, x_with_cnst2)\n",
    "model3 = sm.OLS(y_ary, x_with_cnst3)\n",
    "model4 = sm.OLS(y_ary, x_with_cnst4)\n",
    "model5 = sm.OLS(y_ary, x_with_cnst5)\n",
    "model6 = sm.OLS(y_ary, x_with_cnst6)\n",
    "\n",
    "results1 = model1.fit()\n",
    "results2 = model2.fit()\n",
    "results3 = model3.fit()\n",
    "results4 = model4.fit()\n",
    "results5 = model5.fit()\n",
    "results6 = model6.fit()\n",
    "\n",
    "#Prediction models\n",
    "mcg_predict = results1.predict(x_with_cnst1) \n",
    "gvh_predict = results2.predict(x_with_cnst2) \n",
    "alm_predict = results3.predict(x_with_cnst3) \n",
    "mit_predict = results4.predict(x_with_cnst4) \n",
    "erl_predict = results5.predict(x_with_cnst5)\n",
    "nuc_predict = results6.predict(x_with_cnst6) \n",
    "\n",
    "#pvalues\n",
    "print(results1.pvalues)\n",
    "print(results2.pvalues)\n",
    "print(results3.pvalues)\n",
    "print(results4.pvalues)\n",
    "print(results5.pvalues)\n",
    "print(results6.pvalues)"
   ]
  },
  {
   "cell_type": "code",
   "execution_count": 160,
   "metadata": {},
   "outputs": [],
   "source": [
    "#First Results\n",
    "\n",
    "#As seen by our confusion matrix and summary we were able to predict the class correctly 77% of the time.\n",
    "#Looking at our p values, it appears that erl and mcg have the weakest signifance when it comes to our model.\n",
    "#Let's see what happens to our predictor score when we pull these values from the training."
   ]
  },
  {
   "cell_type": "markdown",
   "metadata": {},
   "source": [
    "**Question 3.3 (3 points)** Drop the two least important features found in the previous question and perform the logistic regression again. Then use the use the `sklearn.metrics` we imported at the top and run the `accuracy_score` on the 0/1 predicted label and the test labels, and print the accuracy of this model.\n",
    "\n",
    "* Discuss your results. How well does your reduced model fit your data? What evidence are you using to make the determination?"
   ]
  },
  {
   "cell_type": "code",
   "execution_count": 161,
   "metadata": {},
   "outputs": [
    {
     "name": "stdout",
     "output_type": "stream",
     "text": [
      "Fitting the classifier to the training set\n"
     ]
    }
   ],
   "source": [
    "### Put your code here ###\n",
    "data_trim = data.drop(['mcg','erl'],axis=1)\n",
    "train_label1, test_label1, train_vectors1, test_vectors1 = train_test_split(class_labels , data_trim, test_size = .30, train_size = .70)\n",
    "#make some temporary variables so you can change this easily\n",
    "tmp_vectors1 = train_vectors1\n",
    "tmp_labels1 = train_label1\n",
    "\n",
    "print(\"Fitting the classifier to the training set\")\n",
    "# a dictionary of hyperparameters: key is the name of the parameter, value is a list of values to test\n",
    "param_grid = {'C': [1e3, 5e3, 1e4, 5e4, 1e5],\n",
    "              'gamma': [0.0001, 0.0005, 0.001, 0.005, 0.01, 0.1], }\n",
    "# make a classifier by searching over a classifier and the parameter grid\n",
    "clf = GridSearchCV(SVC(kernel='linear', class_weight='balanced'), param_grid)\n",
    "\n",
    "# we have a \"good\" classifier (according to GridSearchCV), how's it look\n",
    "clf = clf.fit(tmp_vectors1, tmp_labels1)"
   ]
  },
  {
   "cell_type": "code",
   "execution_count": 163,
   "metadata": {},
   "outputs": [
    {
     "name": "stdout",
     "output_type": "stream",
     "text": [
      "Predicting names on the test set\n",
      "              precision    recall  f1-score   support\n",
      "\n",
      "           0       0.84      0.88      0.86       139\n",
      "           1       0.74      0.67      0.71        73\n",
      "\n",
      "    accuracy                           0.81       212\n",
      "   macro avg       0.79      0.77      0.78       212\n",
      "weighted avg       0.80      0.81      0.80       212\n",
      "\n",
      "[[122  17]\n",
      " [ 24  49]]\n"
     ]
    }
   ],
   "source": [
    "clf.predict(test_vectors1)\n",
    "###############################################################################\n",
    "# Quantitative evaluation of the model quality on the test set\n",
    "\n",
    "#make some temporary variables so you can change this easily\n",
    "predict_vectors1 = test_vectors1\n",
    "true_labels1 = test_label1\n",
    "\n",
    "print(\"Predicting names on the test set\")\n",
    "pred_labels1 = clf.predict(predict_vectors1)\n",
    "\n",
    "print(classification_report(true_labels1, pred_labels1))\n",
    "print(confusion_matrix(true_labels1, pred_labels1, labels=range(2)))"
   ]
  },
  {
   "cell_type": "code",
   "execution_count": 164,
   "metadata": {},
   "outputs": [
    {
     "name": "stdout",
     "output_type": "stream",
     "text": [
      "The accuracy of our new test was: 0.81. Compared to the original test at: 0.82\n"
     ]
    }
   ],
   "source": [
    "print(f'The accuracy of our new test was: {round(metrics.accuracy_score(true_labels1, pred_labels1),2)}. Compared to the original test at: {accuracy}') "
   ]
  },
  {
   "cell_type": "code",
   "execution_count": 165,
   "metadata": {},
   "outputs": [],
   "source": [
    "# Soooo yeah,\n",
    "# I done goofed, and at this point I'm totally lost as to what I'm supposed to be striving for so I'm calling it\n",
    "# ggwp"
   ]
  },
  {
   "cell_type": "markdown",
   "metadata": {},
   "source": [
    "# K-Nearest Neighbors\n",
    "\n",
    "In the next part we will be building a class that will use the k-nearest neighbors algorithm (kNN) to make predictions on the same dataset. From the previous part (logistic regression), you have selected **4 features** that are important for classification. We will **only** use those 4 features in this part.\n"
   ]
  },
  {
   "cell_type": "markdown",
   "metadata": {},
   "source": [
    "## Part 4: KNN classifier, cross-validation and hyperparameter tuning (10 points)"
   ]
  },
  {
   "cell_type": "markdown",
   "metadata": {},
   "source": [
    "**Question 4.1 (3 points)** Test drive the KNN classifier. Use the same train and test data you created in question 3.4 to build a KNN classifier with K=3. \n",
    "- make a `KNeighborsClassifier` with an argument of `n_neighbors=3`. This returns a knn classifier (let's just call it `knn`)\n",
    "- call `knn.fit` on the training data\n",
    "- use `knn.predict` on the testing data to generate the predicted values.\n",
    "- print the confusion matrix.\n",
    "- print the train and test score using `knn.score`.\n",
    "- plot the ROC curve with the diagonal (the \"chance line\") also labeled. Using `sklearn.metrics`, print the `auc` for this model."
   ]
  },
  {
   "cell_type": "code",
   "execution_count": 181,
   "metadata": {},
   "outputs": [
    {
     "name": "stdout",
     "output_type": "stream",
     "text": [
      "[[124  15]\n",
      " [ 27  46]]\n",
      "0.8018867924528302\n"
     ]
    },
    {
     "data": {
      "text/plain": [
       "[<matplotlib.lines.Line2D at 0x1feb744b7f0>]"
      ]
     },
     "execution_count": 181,
     "metadata": {},
     "output_type": "execute_result"
    },
    {
     "data": {
      "image/png": "[encoded data removed]",
      "text/plain": [
       "<Figure size 432x288 with 1 Axes>"
      ]
     },
     "metadata": {
      "needs_background": "light"
     },
     "output_type": "display_data"
    }
   ],
   "source": [
    "### Put your code here ###\n",
    "knn = KNeighborsClassifier(n_neighbors=3)\n",
    "knn.fit(train_vectors1,train_label1)\n",
    "predict_knn = knn.predict(test_vectors1)\n",
    "print(confusion_matrix(true_labels1, predict_knn, labels=range(2)))\n",
    "print(knn.score(test_vectors1,test_label1))\n",
    "fpr,tpr, threshold = metrics.roc_curve(test_label1, predict_knn)\n",
    "plt.plot(fpr,tpr)"
   ]
  },
  {
   "cell_type": "markdown",
   "metadata": {},
   "source": [
    "## k-Fold Cross-Validation\n",
    "Cross-validation is when the dataset is randomly split up into ‘k’ groups. One of the groups is used as the test set and the rest are used as the training set. The model is trained on the training set and scored on the test set. Then the process is repeated until each unique group as been used as the test set.\n",
    "For example, for 5-fold cross validation, the dataset would be split into 5 groups, and the model would be trained and tested 5 separate times so each group would get a chance to be the test set. This can be seen in the graph below.\n",
    "\n",
    "<img src=\"https://miro.medium.com/max/1400/1*NyvaFiG_jXcGgOaouumYJQ.jpeg\" width=700px>\n",
    "\n",
    "The train-test-split method we used in earlier is called ‘holdout’. Cross-validation is better than using the holdout method because the holdout method score is dependent on how the data is split into train and test sets. Cross-validation gives the model an opportunity to test on multiple splits so we can get a better idea on how the model will perform on unseen data.\n",
    "\n",
    "\n"
   ]
  },
  {
   "cell_type": "markdown",
   "metadata": {},
   "source": [
    "**Question 4.2 (2 points)** Look up `cross_val_score` in `sklearn.model_selection`. We will still use n_neighbors=3, and  a cross-validation value of 5. `cross_val_score` takes in our k-NN model and our data as parameters. Then it splits our data into 5 groups and fits and scores our data 5 seperate times, recording the accuracy score in an array each time. We will save the accuracy scores in the cv_scores variable. Then find the average of the cv_scores, that will provide you a more accurate understanding of the accuracy of the model.\n",
    "\n",
    "* Discuss your results. How well do your models fit your data? \n",
    "* What are you using to judge that fit (i.e., how should we think about the accuracy score as a measure of quality of the model)?\n",
    "* How does the quality of the KNN model compare to logistic regression?"
   ]
  },
  {
   "cell_type": "code",
   "execution_count": 188,
   "metadata": {},
   "outputs": [
    {
     "name": "stdout",
     "output_type": "stream",
     "text": [
      "The average of the scores is 0.76. This shows that with 5 cv groupings and 3 neighbors we do not get a better estimate than the logistic model.\n"
     ]
    }
   ],
   "source": [
    "### Put your code here ###\n",
    "scores = cross_val_score(knn,test_vectors1,test_label1,cv=5)\n",
    "print(f'The average of the scores is {round(scores.mean(),2)}. This shows that with 5 cv groupings and 3 neighbors we do not get a better estimate than the logistic model.')"
   ]
  },
  {
   "cell_type": "markdown",
   "metadata": {},
   "source": [
    "## Hyperparameter tuning\n",
    "\n",
    "\n",
    "Almost all machine learning models have hyperparamters. Hyperparameters are setting(s) in the model that the user needs to choose before learning takes place. For example, in k-nearest neighbors, the number of neighbors to consider  n_neighbors, is the hyperparameter. An important task in machine learning is hyperparameter tuning, which is finding the optimal hyperparmeter. We will now explore the optimal choice of this parameter for this dataset.\n",
    "\n",
    "**Question 4.3 (3 points)** Consider the range of `n_neighbors` from 1 to 100, and fix the cross-validation value to be 5. \n",
    "- For each value of n_neighbors, compute the means of the cv_scores. \n",
    "- Make a plot with the x-axis being n_neighbors, y-axis being the mean of cv_scores.\n",
    "- Find the optimal choice of n_neighbors with the largest value of the mean of cv_scores.\n",
    "\n",
    "Discuss your results\n",
    "* How does the quality of this model compare to the earlier models that you made with KNN and logisitic regression?\n"
   ]
  },
  {
   "cell_type": "code",
   "execution_count": 204,
   "metadata": {},
   "outputs": [
    {
     "name": "stdout",
     "output_type": "stream",
     "text": [
      "The max average we got was: 0.8158, when we had 7 neighbors.\n"
     ]
    },
    {
     "data": {
      "text/plain": [
       "[<matplotlib.lines.Line2D at 0x1feba2d49a0>]"
      ]
     },
     "execution_count": 204,
     "metadata": {},
     "output_type": "execute_result"
    },
    {
     "data": {
      "image/png": "[encoded data removed]",
      "text/plain": [
       "<Figure size 432x288 with 1 Axes>"
      ]
     },
     "metadata": {
      "needs_background": "light"
     },
     "output_type": "display_data"
    }
   ],
   "source": [
    "### Put your code here ###\n",
    "x = []\n",
    "cv_scores = []\n",
    "for i in range(1,100):\n",
    "    x.append(i)\n",
    "    knn = KNeighborsClassifier(n_neighbors= i)\n",
    "    knn.fit(train_vectors1,train_label1)\n",
    "    predict_knn = knn.predict(test_vectors1)\n",
    "    cv_score = cross_val_score(knn,test_vectors1,test_label1,cv=5)\n",
    "    cv_score_avg = cv_score.mean()\n",
    "    cv_scores.append(cv_score_avg)\n",
    "max_score = round(max(cv_scores),4)\n",
    "for i in range(0,99):\n",
    "    if max_score == cv_scores[i]:\n",
    "        x_max = x[i]\n",
    "print(f'The max average we got was: {max_score}, when we had {x_max} neighbors.')\n",
    "plt.plot(x,cv_scores)"
   ]
  },
  {
   "cell_type": "markdown",
   "metadata": {},
   "source": [
    "Now we will use a more efficient method: `GridSearchCV` in `sklearn.model_selection` to find the optimal n_neighbors.\n",
    "\n",
    "**Question 4.4 (2 points)** Look up `GridSearchCV` in `sklearn.model_selection`. We will still use a cross-validation value of 5.  Use `best_params_` in `GridSearchCV` to find the optimal n_neighbors. Does it agree with the results from question 4.3?"
   ]
  },
  {
   "cell_type": "code",
   "execution_count": 212,
   "metadata": {},
   "outputs": [],
   "source": [
    "### Put your code here ###\n",
    "scoresCV = []\n",
    "for i in range(1,100):\n",
    "    x.append(i)\n",
    "    knn = KNeighborsClassifier(n_neighbors= i)\n",
    "    knn.fit(train_vectors1,train_label1)\n",
    "    predict_knn = knn.predict(test_vectors1)\n",
    "    cv_score = cross_val_score(knn,test_vectors1,test_label1,cv=5)\n",
    "    cv_score_avg = cv_score.mean()\n",
    "    cv_scores.append(cv_score_avg)\n",
    "    scoreCV = GridSearchCV(knn,param_grid,cv=5,refit=True)\n",
    "    scoresCV.append(scoreCV)"
   ]
  },
  {
   "cell_type": "code",
   "execution_count": 216,
   "metadata": {},
   "outputs": [
    {
     "name": "stdout",
     "output_type": "stream",
     "text": [
      "[GridSearchCV(cv=5, estimator=KNeighborsClassifier(n_neighbors=1),\n",
      "             param_grid={'C': [1000.0, 5000.0, 10000.0, 50000.0, 100000.0],\n",
      "                         'gamma': [0.0001, 0.0005, 0.001, 0.005, 0.01, 0.1]}), GridSearchCV(cv=5, estimator=KNeighborsClassifier(n_neighbors=2),\n",
      "             param_grid={'C': [1000.0, 5000.0, 10000.0, 50000.0, 100000.0],\n",
      "                         'gamma': [0.0001, 0.0005, 0.001, 0.005, 0.01, 0.1]}), GridSearchCV(cv=5, estimator=KNeighborsClassifier(n_neighbors=3),\n",
      "             param_grid={'C': [1000.0, 5000.0, 10000.0, 50000.0, 100000.0],\n",
      "                         'gamma': [0.0001, 0.0005, 0.001, 0.005, 0.01, 0.1]}), GridSearchCV(cv=5, estimator=KNeighborsClassifier(n_neighbors=4),\n",
      "             param_grid={'C': [1000.0, 5000.0, 10000.0, 50000.0, 100000.0],\n",
      "                         'gamma': [0.0001, 0.0005, 0.001, 0.005, 0.01, 0.1]}), GridSearchCV(cv=5, estimator=KNeighborsClassifier(),\n",
      "             param_grid={'C': [1000.0, 5000.0, 10000.0, 50000.0, 100000.0],\n",
      "                         'gamma': [0.0001, 0.0005, 0.001, 0.005, 0.01, 0.1]}), GridSearchCV(cv=5, estimator=KNeighborsClassifier(n_neighbors=6),\n",
      "             param_grid={'C': [1000.0, 5000.0, 10000.0, 50000.0, 100000.0],\n",
      "                         'gamma': [0.0001, 0.0005, 0.001, 0.005, 0.01, 0.1]}), GridSearchCV(cv=5, estimator=KNeighborsClassifier(n_neighbors=7),\n",
      "             param_grid={'C': [1000.0, 5000.0, 10000.0, 50000.0, 100000.0],\n",
      "                         'gamma': [0.0001, 0.0005, 0.001, 0.005, 0.01, 0.1]}), GridSearchCV(cv=5, estimator=KNeighborsClassifier(n_neighbors=8),\n",
      "             param_grid={'C': [1000.0, 5000.0, 10000.0, 50000.0, 100000.0],\n",
      "                         'gamma': [0.0001, 0.0005, 0.001, 0.005, 0.01, 0.1]}), GridSearchCV(cv=5, estimator=KNeighborsClassifier(n_neighbors=9),\n",
      "             param_grid={'C': [1000.0, 5000.0, 10000.0, 50000.0, 100000.0],\n",
      "                         'gamma': [0.0001, 0.0005, 0.001, 0.005, 0.01, 0.1]}), GridSearchCV(cv=5, estimator=KNeighborsClassifier(n_neighbors=10),\n",
      "             param_grid={'C': [1000.0, 5000.0, 10000.0, 50000.0, 100000.0],\n",
      "                         'gamma': [0.0001, 0.0005, 0.001, 0.005, 0.01, 0.1]}), GridSearchCV(cv=5, estimator=KNeighborsClassifier(n_neighbors=11),\n",
      "             param_grid={'C': [1000.0, 5000.0, 10000.0, 50000.0, 100000.0],\n",
      "                         'gamma': [0.0001, 0.0005, 0.001, 0.005, 0.01, 0.1]}), GridSearchCV(cv=5, estimator=KNeighborsClassifier(n_neighbors=12),\n",
      "             param_grid={'C': [1000.0, 5000.0, 10000.0, 50000.0, 100000.0],\n",
      "                         'gamma': [0.0001, 0.0005, 0.001, 0.005, 0.01, 0.1]}), GridSearchCV(cv=5, estimator=KNeighborsClassifier(n_neighbors=13),\n",
      "             param_grid={'C': [1000.0, 5000.0, 10000.0, 50000.0, 100000.0],\n",
      "                         'gamma': [0.0001, 0.0005, 0.001, 0.005, 0.01, 0.1]}), GridSearchCV(cv=5, estimator=KNeighborsClassifier(n_neighbors=14),\n",
      "             param_grid={'C': [1000.0, 5000.0, 10000.0, 50000.0, 100000.0],\n",
      "                         'gamma': [0.0001, 0.0005, 0.001, 0.005, 0.01, 0.1]}), GridSearchCV(cv=5, estimator=KNeighborsClassifier(n_neighbors=15),\n",
      "             param_grid={'C': [1000.0, 5000.0, 10000.0, 50000.0, 100000.0],\n",
      "                         'gamma': [0.0001, 0.0005, 0.001, 0.005, 0.01, 0.1]}), GridSearchCV(cv=5, estimator=KNeighborsClassifier(n_neighbors=16),\n",
      "             param_grid={'C': [1000.0, 5000.0, 10000.0, 50000.0, 100000.0],\n",
      "                         'gamma': [0.0001, 0.0005, 0.001, 0.005, 0.01, 0.1]}), GridSearchCV(cv=5, estimator=KNeighborsClassifier(n_neighbors=17),\n",
      "             param_grid={'C': [1000.0, 5000.0, 10000.0, 50000.0, 100000.0],\n",
      "                         'gamma': [0.0001, 0.0005, 0.001, 0.005, 0.01, 0.1]}), GridSearchCV(cv=5, estimator=KNeighborsClassifier(n_neighbors=18),\n",
      "             param_grid={'C': [1000.0, 5000.0, 10000.0, 50000.0, 100000.0],\n",
      "                         'gamma': [0.0001, 0.0005, 0.001, 0.005, 0.01, 0.1]}), GridSearchCV(cv=5, estimator=KNeighborsClassifier(n_neighbors=19),\n",
      "             param_grid={'C': [1000.0, 5000.0, 10000.0, 50000.0, 100000.0],\n",
      "                         'gamma': [0.0001, 0.0005, 0.001, 0.005, 0.01, 0.1]}), GridSearchCV(cv=5, estimator=KNeighborsClassifier(n_neighbors=20),\n",
      "             param_grid={'C': [1000.0, 5000.0, 10000.0, 50000.0, 100000.0],\n",
      "                         'gamma': [0.0001, 0.0005, 0.001, 0.005, 0.01, 0.1]}), GridSearchCV(cv=5, estimator=KNeighborsClassifier(n_neighbors=21),\n",
      "             param_grid={'C': [1000.0, 5000.0, 10000.0, 50000.0, 100000.0],\n",
      "                         'gamma': [0.0001, 0.0005, 0.001, 0.005, 0.01, 0.1]}), GridSearchCV(cv=5, estimator=KNeighborsClassifier(n_neighbors=22),\n",
      "             param_grid={'C': [1000.0, 5000.0, 10000.0, 50000.0, 100000.0],\n",
      "                         'gamma': [0.0001, 0.0005, 0.001, 0.005, 0.01, 0.1]}), GridSearchCV(cv=5, estimator=KNeighborsClassifier(n_neighbors=23),\n",
      "             param_grid={'C': [1000.0, 5000.0, 10000.0, 50000.0, 100000.0],\n",
      "                         'gamma': [0.0001, 0.0005, 0.001, 0.005, 0.01, 0.1]}), GridSearchCV(cv=5, estimator=KNeighborsClassifier(n_neighbors=24),\n",
      "             param_grid={'C': [1000.0, 5000.0, 10000.0, 50000.0, 100000.0],\n",
      "                         'gamma': [0.0001, 0.0005, 0.001, 0.005, 0.01, 0.1]}), GridSearchCV(cv=5, estimator=KNeighborsClassifier(n_neighbors=25),\n",
      "             param_grid={'C': [1000.0, 5000.0, 10000.0, 50000.0, 100000.0],\n",
      "                         'gamma': [0.0001, 0.0005, 0.001, 0.005, 0.01, 0.1]}), GridSearchCV(cv=5, estimator=KNeighborsClassifier(n_neighbors=26),\n",
      "             param_grid={'C': [1000.0, 5000.0, 10000.0, 50000.0, 100000.0],\n",
      "                         'gamma': [0.0001, 0.0005, 0.001, 0.005, 0.01, 0.1]}), GridSearchCV(cv=5, estimator=KNeighborsClassifier(n_neighbors=27),\n",
      "             param_grid={'C': [1000.0, 5000.0, 10000.0, 50000.0, 100000.0],\n",
      "                         'gamma': [0.0001, 0.0005, 0.001, 0.005, 0.01, 0.1]}), GridSearchCV(cv=5, estimator=KNeighborsClassifier(n_neighbors=28),\n",
      "             param_grid={'C': [1000.0, 5000.0, 10000.0, 50000.0, 100000.0],\n",
      "                         'gamma': [0.0001, 0.0005, 0.001, 0.005, 0.01, 0.1]}), GridSearchCV(cv=5, estimator=KNeighborsClassifier(n_neighbors=29),\n",
      "             param_grid={'C': [1000.0, 5000.0, 10000.0, 50000.0, 100000.0],\n",
      "                         'gamma': [0.0001, 0.0005, 0.001, 0.005, 0.01, 0.1]}), GridSearchCV(cv=5, estimator=KNeighborsClassifier(n_neighbors=30),\n",
      "             param_grid={'C': [1000.0, 5000.0, 10000.0, 50000.0, 100000.0],\n",
      "                         'gamma': [0.0001, 0.0005, 0.001, 0.005, 0.01, 0.1]}), GridSearchCV(cv=5, estimator=KNeighborsClassifier(n_neighbors=31),\n",
      "             param_grid={'C': [1000.0, 5000.0, 10000.0, 50000.0, 100000.0],\n",
      "                         'gamma': [0.0001, 0.0005, 0.001, 0.005, 0.01, 0.1]}), GridSearchCV(cv=5, estimator=KNeighborsClassifier(n_neighbors=32),\n",
      "             param_grid={'C': [1000.0, 5000.0, 10000.0, 50000.0, 100000.0],\n",
      "                         'gamma': [0.0001, 0.0005, 0.001, 0.005, 0.01, 0.1]}), GridSearchCV(cv=5, estimator=KNeighborsClassifier(n_neighbors=33),\n",
      "             param_grid={'C': [1000.0, 5000.0, 10000.0, 50000.0, 100000.0],\n",
      "                         'gamma': [0.0001, 0.0005, 0.001, 0.005, 0.01, 0.1]}), GridSearchCV(cv=5, estimator=KNeighborsClassifier(n_neighbors=34),\n",
      "             param_grid={'C': [1000.0, 5000.0, 10000.0, 50000.0, 100000.0],\n",
      "                         'gamma': [0.0001, 0.0005, 0.001, 0.005, 0.01, 0.1]}), GridSearchCV(cv=5, estimator=KNeighborsClassifier(n_neighbors=35),\n",
      "             param_grid={'C': [1000.0, 5000.0, 10000.0, 50000.0, 100000.0],\n",
      "                         'gamma': [0.0001, 0.0005, 0.001, 0.005, 0.01, 0.1]}), GridSearchCV(cv=5, estimator=KNeighborsClassifier(n_neighbors=36),\n",
      "             param_grid={'C': [1000.0, 5000.0, 10000.0, 50000.0, 100000.0],\n",
      "                         'gamma': [0.0001, 0.0005, 0.001, 0.005, 0.01, 0.1]}), GridSearchCV(cv=5, estimator=KNeighborsClassifier(n_neighbors=37),\n",
      "             param_grid={'C': [1000.0, 5000.0, 10000.0, 50000.0, 100000.0],\n",
      "                         'gamma': [0.0001, 0.0005, 0.001, 0.005, 0.01, 0.1]}), GridSearchCV(cv=5, estimator=KNeighborsClassifier(n_neighbors=38),\n",
      "             param_grid={'C': [1000.0, 5000.0, 10000.0, 50000.0, 100000.0],\n",
      "                         'gamma': [0.0001, 0.0005, 0.001, 0.005, 0.01, 0.1]}), GridSearchCV(cv=5, estimator=KNeighborsClassifier(n_neighbors=39),\n",
      "             param_grid={'C': [1000.0, 5000.0, 10000.0, 50000.0, 100000.0],\n",
      "                         'gamma': [0.0001, 0.0005, 0.001, 0.005, 0.01, 0.1]}), GridSearchCV(cv=5, estimator=KNeighborsClassifier(n_neighbors=40),\n",
      "             param_grid={'C': [1000.0, 5000.0, 10000.0, 50000.0, 100000.0],\n",
      "                         'gamma': [0.0001, 0.0005, 0.001, 0.005, 0.01, 0.1]}), GridSearchCV(cv=5, estimator=KNeighborsClassifier(n_neighbors=41),\n",
      "             param_grid={'C': [1000.0, 5000.0, 10000.0, 50000.0, 100000.0],\n",
      "                         'gamma': [0.0001, 0.0005, 0.001, 0.005, 0.01, 0.1]}), GridSearchCV(cv=5, estimator=KNeighborsClassifier(n_neighbors=42),\n",
      "             param_grid={'C': [1000.0, 5000.0, 10000.0, 50000.0, 100000.0],\n",
      "                         'gamma': [0.0001, 0.0005, 0.001, 0.005, 0.01, 0.1]}), GridSearchCV(cv=5, estimator=KNeighborsClassifier(n_neighbors=43),\n",
      "             param_grid={'C': [1000.0, 5000.0, 10000.0, 50000.0, 100000.0],\n",
      "                         'gamma': [0.0001, 0.0005, 0.001, 0.005, 0.01, 0.1]}), GridSearchCV(cv=5, estimator=KNeighborsClassifier(n_neighbors=44),\n",
      "             param_grid={'C': [1000.0, 5000.0, 10000.0, 50000.0, 100000.0],\n",
      "                         'gamma': [0.0001, 0.0005, 0.001, 0.005, 0.01, 0.1]}), GridSearchCV(cv=5, estimator=KNeighborsClassifier(n_neighbors=45),\n",
      "             param_grid={'C': [1000.0, 5000.0, 10000.0, 50000.0, 100000.0],\n",
      "                         'gamma': [0.0001, 0.0005, 0.001, 0.005, 0.01, 0.1]}), GridSearchCV(cv=5, estimator=KNeighborsClassifier(n_neighbors=46),\n",
      "             param_grid={'C': [1000.0, 5000.0, 10000.0, 50000.0, 100000.0],\n",
      "                         'gamma': [0.0001, 0.0005, 0.001, 0.005, 0.01, 0.1]}), GridSearchCV(cv=5, estimator=KNeighborsClassifier(n_neighbors=47),\n",
      "             param_grid={'C': [1000.0, 5000.0, 10000.0, 50000.0, 100000.0],\n",
      "                         'gamma': [0.0001, 0.0005, 0.001, 0.005, 0.01, 0.1]}), GridSearchCV(cv=5, estimator=KNeighborsClassifier(n_neighbors=48),\n",
      "             param_grid={'C': [1000.0, 5000.0, 10000.0, 50000.0, 100000.0],\n",
      "                         'gamma': [0.0001, 0.0005, 0.001, 0.005, 0.01, 0.1]}), GridSearchCV(cv=5, estimator=KNeighborsClassifier(n_neighbors=49),\n",
      "             param_grid={'C': [1000.0, 5000.0, 10000.0, 50000.0, 100000.0],\n",
      "                         'gamma': [0.0001, 0.0005, 0.001, 0.005, 0.01, 0.1]}), GridSearchCV(cv=5, estimator=KNeighborsClassifier(n_neighbors=50),\n",
      "             param_grid={'C': [1000.0, 5000.0, 10000.0, 50000.0, 100000.0],\n",
      "                         'gamma': [0.0001, 0.0005, 0.001, 0.005, 0.01, 0.1]}), GridSearchCV(cv=5, estimator=KNeighborsClassifier(n_neighbors=51),\n",
      "             param_grid={'C': [1000.0, 5000.0, 10000.0, 50000.0, 100000.0],\n",
      "                         'gamma': [0.0001, 0.0005, 0.001, 0.005, 0.01, 0.1]}), GridSearchCV(cv=5, estimator=KNeighborsClassifier(n_neighbors=52),\n",
      "             param_grid={'C': [1000.0, 5000.0, 10000.0, 50000.0, 100000.0],\n",
      "                         'gamma': [0.0001, 0.0005, 0.001, 0.005, 0.01, 0.1]}), GridSearchCV(cv=5, estimator=KNeighborsClassifier(n_neighbors=53),\n",
      "             param_grid={'C': [1000.0, 5000.0, 10000.0, 50000.0, 100000.0],\n",
      "                         'gamma': [0.0001, 0.0005, 0.001, 0.005, 0.01, 0.1]}), GridSearchCV(cv=5, estimator=KNeighborsClassifier(n_neighbors=54),\n",
      "             param_grid={'C': [1000.0, 5000.0, 10000.0, 50000.0, 100000.0],\n",
      "                         'gamma': [0.0001, 0.0005, 0.001, 0.005, 0.01, 0.1]}), GridSearchCV(cv=5, estimator=KNeighborsClassifier(n_neighbors=55),\n",
      "             param_grid={'C': [1000.0, 5000.0, 10000.0, 50000.0, 100000.0],\n",
      "                         'gamma': [0.0001, 0.0005, 0.001, 0.005, 0.01, 0.1]}), GridSearchCV(cv=5, estimator=KNeighborsClassifier(n_neighbors=56),\n",
      "             param_grid={'C': [1000.0, 5000.0, 10000.0, 50000.0, 100000.0],\n",
      "                         'gamma': [0.0001, 0.0005, 0.001, 0.005, 0.01, 0.1]}), GridSearchCV(cv=5, estimator=KNeighborsClassifier(n_neighbors=57),\n",
      "             param_grid={'C': [1000.0, 5000.0, 10000.0, 50000.0, 100000.0],\n",
      "                         'gamma': [0.0001, 0.0005, 0.001, 0.005, 0.01, 0.1]}), GridSearchCV(cv=5, estimator=KNeighborsClassifier(n_neighbors=58),\n",
      "             param_grid={'C': [1000.0, 5000.0, 10000.0, 50000.0, 100000.0],\n",
      "                         'gamma': [0.0001, 0.0005, 0.001, 0.005, 0.01, 0.1]}), GridSearchCV(cv=5, estimator=KNeighborsClassifier(n_neighbors=59),\n",
      "             param_grid={'C': [1000.0, 5000.0, 10000.0, 50000.0, 100000.0],\n",
      "                         'gamma': [0.0001, 0.0005, 0.001, 0.005, 0.01, 0.1]}), GridSearchCV(cv=5, estimator=KNeighborsClassifier(n_neighbors=60),\n",
      "             param_grid={'C': [1000.0, 5000.0, 10000.0, 50000.0, 100000.0],\n",
      "                         'gamma': [0.0001, 0.0005, 0.001, 0.005, 0.01, 0.1]}), GridSearchCV(cv=5, estimator=KNeighborsClassifier(n_neighbors=61),\n",
      "             param_grid={'C': [1000.0, 5000.0, 10000.0, 50000.0, 100000.0],\n",
      "                         'gamma': [0.0001, 0.0005, 0.001, 0.005, 0.01, 0.1]}), GridSearchCV(cv=5, estimator=KNeighborsClassifier(n_neighbors=62),\n",
      "             param_grid={'C': [1000.0, 5000.0, 10000.0, 50000.0, 100000.0],\n",
      "                         'gamma': [0.0001, 0.0005, 0.001, 0.005, 0.01, 0.1]}), GridSearchCV(cv=5, estimator=KNeighborsClassifier(n_neighbors=63),\n",
      "             param_grid={'C': [1000.0, 5000.0, 10000.0, 50000.0, 100000.0],\n",
      "                         'gamma': [0.0001, 0.0005, 0.001, 0.005, 0.01, 0.1]}), GridSearchCV(cv=5, estimator=KNeighborsClassifier(n_neighbors=64),\n",
      "             param_grid={'C': [1000.0, 5000.0, 10000.0, 50000.0, 100000.0],\n",
      "                         'gamma': [0.0001, 0.0005, 0.001, 0.005, 0.01, 0.1]}), GridSearchCV(cv=5, estimator=KNeighborsClassifier(n_neighbors=65),\n",
      "             param_grid={'C': [1000.0, 5000.0, 10000.0, 50000.0, 100000.0],\n",
      "                         'gamma': [0.0001, 0.0005, 0.001, 0.005, 0.01, 0.1]}), GridSearchCV(cv=5, estimator=KNeighborsClassifier(n_neighbors=66),\n",
      "             param_grid={'C': [1000.0, 5000.0, 10000.0, 50000.0, 100000.0],\n",
      "                         'gamma': [0.0001, 0.0005, 0.001, 0.005, 0.01, 0.1]}), GridSearchCV(cv=5, estimator=KNeighborsClassifier(n_neighbors=67),\n",
      "             param_grid={'C': [1000.0, 5000.0, 10000.0, 50000.0, 100000.0],\n",
      "                         'gamma': [0.0001, 0.0005, 0.001, 0.005, 0.01, 0.1]}), GridSearchCV(cv=5, estimator=KNeighborsClassifier(n_neighbors=68),\n",
      "             param_grid={'C': [1000.0, 5000.0, 10000.0, 50000.0, 100000.0],\n",
      "                         'gamma': [0.0001, 0.0005, 0.001, 0.005, 0.01, 0.1]}), GridSearchCV(cv=5, estimator=KNeighborsClassifier(n_neighbors=69),\n",
      "             param_grid={'C': [1000.0, 5000.0, 10000.0, 50000.0, 100000.0],\n",
      "                         'gamma': [0.0001, 0.0005, 0.001, 0.005, 0.01, 0.1]}), GridSearchCV(cv=5, estimator=KNeighborsClassifier(n_neighbors=70),\n",
      "             param_grid={'C': [1000.0, 5000.0, 10000.0, 50000.0, 100000.0],\n",
      "                         'gamma': [0.0001, 0.0005, 0.001, 0.005, 0.01, 0.1]}), GridSearchCV(cv=5, estimator=KNeighborsClassifier(n_neighbors=71),\n",
      "             param_grid={'C': [1000.0, 5000.0, 10000.0, 50000.0, 100000.0],\n",
      "                         'gamma': [0.0001, 0.0005, 0.001, 0.005, 0.01, 0.1]}), GridSearchCV(cv=5, estimator=KNeighborsClassifier(n_neighbors=72),\n",
      "             param_grid={'C': [1000.0, 5000.0, 10000.0, 50000.0, 100000.0],\n",
      "                         'gamma': [0.0001, 0.0005, 0.001, 0.005, 0.01, 0.1]}), GridSearchCV(cv=5, estimator=KNeighborsClassifier(n_neighbors=73),\n",
      "             param_grid={'C': [1000.0, 5000.0, 10000.0, 50000.0, 100000.0],\n",
      "                         'gamma': [0.0001, 0.0005, 0.001, 0.005, 0.01, 0.1]}), GridSearchCV(cv=5, estimator=KNeighborsClassifier(n_neighbors=74),\n",
      "             param_grid={'C': [1000.0, 5000.0, 10000.0, 50000.0, 100000.0],\n",
      "                         'gamma': [0.0001, 0.0005, 0.001, 0.005, 0.01, 0.1]}), GridSearchCV(cv=5, estimator=KNeighborsClassifier(n_neighbors=75),\n",
      "             param_grid={'C': [1000.0, 5000.0, 10000.0, 50000.0, 100000.0],\n",
      "                         'gamma': [0.0001, 0.0005, 0.001, 0.005, 0.01, 0.1]}), GridSearchCV(cv=5, estimator=KNeighborsClassifier(n_neighbors=76),\n",
      "             param_grid={'C': [1000.0, 5000.0, 10000.0, 50000.0, 100000.0],\n",
      "                         'gamma': [0.0001, 0.0005, 0.001, 0.005, 0.01, 0.1]}), GridSearchCV(cv=5, estimator=KNeighborsClassifier(n_neighbors=77),\n",
      "             param_grid={'C': [1000.0, 5000.0, 10000.0, 50000.0, 100000.0],\n",
      "                         'gamma': [0.0001, 0.0005, 0.001, 0.005, 0.01, 0.1]}), GridSearchCV(cv=5, estimator=KNeighborsClassifier(n_neighbors=78),\n",
      "             param_grid={'C': [1000.0, 5000.0, 10000.0, 50000.0, 100000.0],\n",
      "                         'gamma': [0.0001, 0.0005, 0.001, 0.005, 0.01, 0.1]}), GridSearchCV(cv=5, estimator=KNeighborsClassifier(n_neighbors=79),\n",
      "             param_grid={'C': [1000.0, 5000.0, 10000.0, 50000.0, 100000.0],\n",
      "                         'gamma': [0.0001, 0.0005, 0.001, 0.005, 0.01, 0.1]}), GridSearchCV(cv=5, estimator=KNeighborsClassifier(n_neighbors=80),\n",
      "             param_grid={'C': [1000.0, 5000.0, 10000.0, 50000.0, 100000.0],\n",
      "                         'gamma': [0.0001, 0.0005, 0.001, 0.005, 0.01, 0.1]}), GridSearchCV(cv=5, estimator=KNeighborsClassifier(n_neighbors=81),\n",
      "             param_grid={'C': [1000.0, 5000.0, 10000.0, 50000.0, 100000.0],\n",
      "                         'gamma': [0.0001, 0.0005, 0.001, 0.005, 0.01, 0.1]}), GridSearchCV(cv=5, estimator=KNeighborsClassifier(n_neighbors=82),\n",
      "             param_grid={'C': [1000.0, 5000.0, 10000.0, 50000.0, 100000.0],\n",
      "                         'gamma': [0.0001, 0.0005, 0.001, 0.005, 0.01, 0.1]}), GridSearchCV(cv=5, estimator=KNeighborsClassifier(n_neighbors=83),\n",
      "             param_grid={'C': [1000.0, 5000.0, 10000.0, 50000.0, 100000.0],\n",
      "                         'gamma': [0.0001, 0.0005, 0.001, 0.005, 0.01, 0.1]}), GridSearchCV(cv=5, estimator=KNeighborsClassifier(n_neighbors=84),\n",
      "             param_grid={'C': [1000.0, 5000.0, 10000.0, 50000.0, 100000.0],\n",
      "                         'gamma': [0.0001, 0.0005, 0.001, 0.005, 0.01, 0.1]}), GridSearchCV(cv=5, estimator=KNeighborsClassifier(n_neighbors=85),\n",
      "             param_grid={'C': [1000.0, 5000.0, 10000.0, 50000.0, 100000.0],\n",
      "                         'gamma': [0.0001, 0.0005, 0.001, 0.005, 0.01, 0.1]}), GridSearchCV(cv=5, estimator=KNeighborsClassifier(n_neighbors=86),\n",
      "             param_grid={'C': [1000.0, 5000.0, 10000.0, 50000.0, 100000.0],\n",
      "                         'gamma': [0.0001, 0.0005, 0.001, 0.005, 0.01, 0.1]}), GridSearchCV(cv=5, estimator=KNeighborsClassifier(n_neighbors=87),\n",
      "             param_grid={'C': [1000.0, 5000.0, 10000.0, 50000.0, 100000.0],\n",
      "                         'gamma': [0.0001, 0.0005, 0.001, 0.005, 0.01, 0.1]}), GridSearchCV(cv=5, estimator=KNeighborsClassifier(n_neighbors=88),\n",
      "             param_grid={'C': [1000.0, 5000.0, 10000.0, 50000.0, 100000.0],\n",
      "                         'gamma': [0.0001, 0.0005, 0.001, 0.005, 0.01, 0.1]}), GridSearchCV(cv=5, estimator=KNeighborsClassifier(n_neighbors=89),\n",
      "             param_grid={'C': [1000.0, 5000.0, 10000.0, 50000.0, 100000.0],\n",
      "                         'gamma': [0.0001, 0.0005, 0.001, 0.005, 0.01, 0.1]}), GridSearchCV(cv=5, estimator=KNeighborsClassifier(n_neighbors=90),\n",
      "             param_grid={'C': [1000.0, 5000.0, 10000.0, 50000.0, 100000.0],\n",
      "                         'gamma': [0.0001, 0.0005, 0.001, 0.005, 0.01, 0.1]}), GridSearchCV(cv=5, estimator=KNeighborsClassifier(n_neighbors=91),\n",
      "             param_grid={'C': [1000.0, 5000.0, 10000.0, 50000.0, 100000.0],\n",
      "                         'gamma': [0.0001, 0.0005, 0.001, 0.005, 0.01, 0.1]}), GridSearchCV(cv=5, estimator=KNeighborsClassifier(n_neighbors=92),\n",
      "             param_grid={'C': [1000.0, 5000.0, 10000.0, 50000.0, 100000.0],\n",
      "                         'gamma': [0.0001, 0.0005, 0.001, 0.005, 0.01, 0.1]}), GridSearchCV(cv=5, estimator=KNeighborsClassifier(n_neighbors=93),\n",
      "             param_grid={'C': [1000.0, 5000.0, 10000.0, 50000.0, 100000.0],\n",
      "                         'gamma': [0.0001, 0.0005, 0.001, 0.005, 0.01, 0.1]}), GridSearchCV(cv=5, estimator=KNeighborsClassifier(n_neighbors=94),\n",
      "             param_grid={'C': [1000.0, 5000.0, 10000.0, 50000.0, 100000.0],\n",
      "                         'gamma': [0.0001, 0.0005, 0.001, 0.005, 0.01, 0.1]}), GridSearchCV(cv=5, estimator=KNeighborsClassifier(n_neighbors=95),\n",
      "             param_grid={'C': [1000.0, 5000.0, 10000.0, 50000.0, 100000.0],\n",
      "                         'gamma': [0.0001, 0.0005, 0.001, 0.005, 0.01, 0.1]}), GridSearchCV(cv=5, estimator=KNeighborsClassifier(n_neighbors=96),\n",
      "             param_grid={'C': [1000.0, 5000.0, 10000.0, 50000.0, 100000.0],\n",
      "                         'gamma': [0.0001, 0.0005, 0.001, 0.005, 0.01, 0.1]}), GridSearchCV(cv=5, estimator=KNeighborsClassifier(n_neighbors=97),\n",
      "             param_grid={'C': [1000.0, 5000.0, 10000.0, 50000.0, 100000.0],\n",
      "                         'gamma': [0.0001, 0.0005, 0.001, 0.005, 0.01, 0.1]}), GridSearchCV(cv=5, estimator=KNeighborsClassifier(n_neighbors=98),\n",
      "             param_grid={'C': [1000.0, 5000.0, 10000.0, 50000.0, 100000.0],\n",
      "                         'gamma': [0.0001, 0.0005, 0.001, 0.005, 0.01, 0.1]}), GridSearchCV(cv=5, estimator=KNeighborsClassifier(n_neighbors=99),\n",
      "             param_grid={'C': [1000.0, 5000.0, 10000.0, 50000.0, 100000.0],\n",
      "                         'gamma': [0.0001, 0.0005, 0.001, 0.005, 0.01, 0.1]})]\n"
     ]
    }
   ],
   "source": [
    "print(scoresCV)"
   ]
  },
  {
   "cell_type": "code",
   "execution_count": null,
   "metadata": {},
   "outputs": [],
   "source": [
    "#As seen from our graphic above, numbers. This proves that when you iterate a function that gives you numbers a lot of times...\n",
    "# ... you will get a lot of numbers as a result. As far as actually prooving what the best parameter fo neighbor is I ...\n",
    "#...have no clue."
   ]
  },
  {
   "cell_type": "markdown",
   "metadata": {},
   "source": [
    "\n",
    "---\n",
    "### Assignment wrap-up\n",
    "\n",
    "Please fill out the form that appears when you run the code below.  **You must completely fill this out in order to receive credit for the assignment!**"
   ]
  },
  {
   "cell_type": "code",
   "execution_count": 217,
   "metadata": {},
   "outputs": [
    {
     "data": {
      "text/html": [
       "\n",
       "<iframe \n",
       "\tsrc=\"https://docs.google.com/forms/d/e/1FAIpQLSc0IBD2mdn4TcRyi-KNXVtS3aEg6U4mOFq2MOciLQyEP4bg1w/viewform?usp=sf_link\" \n",
       "\twidth=\"800px\" \n",
       "\theight=\"600px\" \n",
       "\tframeborder=\"0\" \n",
       "\tmarginheight=\"0\" \n",
       "\tmarginwidth=\"0\">\n",
       "\tLoading...\n",
       "</iframe>\n"
      ],
      "text/plain": [
       "<IPython.core.display.HTML object>"
      ]
     },
     "execution_count": 217,
     "metadata": {},
     "output_type": "execute_result"
    }
   ],
   "source": [
    "from IPython.display import HTML\n",
    "HTML(\n",
    "\"\"\"\n",
    "<iframe \n",
    "\tsrc=\"https://docs.google.com/forms/d/e/1FAIpQLSc0IBD2mdn4TcRyi-KNXVtS3aEg6U4mOFq2MOciLQyEP4bg1w/viewform?usp=sf_link\" \n",
    "\twidth=\"800px\" \n",
    "\theight=\"600px\" \n",
    "\tframeborder=\"0\" \n",
    "\tmarginheight=\"0\" \n",
    "\tmarginwidth=\"0\">\n",
    "\tLoading...\n",
    "</iframe>\n",
    "\"\"\"\n",
    ")"
   ]
  },
  {
   "cell_type": "markdown",
   "metadata": {},
   "source": [
    "### Congratulations, you're done!\n",
    "\n",
    "Submit this assignment by uploading it to the course Desire2Learn web page.  Go to the \"Homework Assignments\" folder, find the dropbox link for Homework 3, and upload your notebook **and the script you wrote**."
   ]
  },
  {
   "cell_type": "code",
   "execution_count": null,
   "metadata": {},
   "outputs": [],
   "source": []
  }
 ],
 "metadata": {
  "kernelspec": {
   "display_name": "Python 3",
   "language": "python",
   "name": "python3"
  },
  "language_info": {
   "codemirror_mode": {
    "name": "ipython",
    "version": 3
   },
   "file_extension": ".py",
   "mimetype": "text/x-python",
   "name": "python",
   "nbconvert_exporter": "python",
   "pygments_lexer": "ipython3",
   "version": "3.8.3"
  }
 },
 "nbformat": 4,
 "nbformat_minor": 4
}
