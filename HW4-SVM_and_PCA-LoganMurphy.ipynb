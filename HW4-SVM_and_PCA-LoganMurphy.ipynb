{
 "cells": [
  {
   "cell_type": "markdown",
   "metadata": {},
   "source": [
    "# CMSE 202 Homework 4 (Individual)\n",
    "\n",
    "## Using SVM and PCA to predict the outcome of chess games\n",
    "\n",
    "### Goals for this homework assignment\n",
    "\n",
    "By the end of this assignment, you should be able to:\n",
    "\n",
    "* Use `git` to track your work and turn in your assignment\n",
    "* Read and impute data to prepare it for modeling\n",
    "* Build, fit, and evaluate an SVC model of data\n",
    "* Use PCA to reduce the number of important features\n",
    "* Build, fit, and evaluate an SVC model of pca transformed data\n",
    "* Systematically investigate the effects of the number of components on an SVC model of data\n",
    "\n",
    "\n",
    "### Assignment instructions:\n",
    "\n",
    "Work through the following assignment, making sure to follow all of the directions and answer all of the questions.\n",
    "\n",
    "There are 25 points possible on this assignment. Point values for each part are included in the section headers.\n",
    "\n",
    "This assignment is due at 11:59 pm on Friday, November 13th. It should be pushed to your repo (See Part 1). "
   ]
  },
  {
   "cell_type": "code",
   "execution_count": 3,
   "metadata": {},
   "outputs": [],
   "source": [
    "## Our imports\n",
    "import numpy as np\n",
    "import pandas as pd\n",
    "import matplotlib.pylab as plt\n",
    "from sklearn.model_selection import train_test_split\n",
    "from sklearn.model_selection import GridSearchCV\n",
    "from sklearn.metrics import classification_report\n",
    "from sklearn.svm import SVC\n",
    "from sklearn.decomposition import PCA\n",
    "from sklearn import svm\n",
    "from sklearn.linear_model import LogisticRegression\n",
    "from sklearn.metrics import accuracy_score, roc_curve, roc_auc_score, confusion_matrix\n",
    "import seaborn as sea\n",
    "from sklearn.preprocessing import StandardScaler\n",
    "from sklearn.model_selection import train_test_split\n",
    "import statsmodels.api as sm\n",
    "from sklearn import metrics\n",
    "from sklearn.neighbors import KNeighborsClassifier"
   ]
  },
  {
   "cell_type": "markdown",
   "metadata": {},
   "source": [
    "---\n",
    "## 1. Adding notebook to your turn-in repository\n",
    "\n",
    "Like you did for Homework 3, you're going to add it to the CMSE202 repository you created in class so that you can track your progress on the assignment and preserve the final version that you turn in. In order to do this you need to:\n",
    "\n",
    "* Navigate to your /CMSE202/repos repository and create a new directory called hw-04.\n",
    "* Move this notebook into that new directory in your repository, then add it and commit it to your repository.\n",
    "   * Finally, to test that everything is working, \"git push\" the file so that it ends up in your GitHub repository.\n",
    "\n",
    "Important: Make sure you've added your TA as a collaborators to your respository with \"Read\" access so that we can see your assignment. (*If you did this for Homework 3, you do not need to do it again*)\n",
    "\n",
    "* Section 001: tuethan\n",
    "* Section 002: Luis-Polanco\n",
    "* Section 003: DavidRimel\n",
    "\n",
    "Also important: Make sure that the version of this notebook that you are working on is the same one that you just added to your repository! If you are working on a different copy of the notebook, none of your changes will be tracked.\n",
    "\n",
    "If everything went as intended, the file should now show up on your GitHub account CMSE202 repository under the hw-04 directory that you just created. Periodically, you'll be asked to commit your changes to the repository and push them to the remote GitHub location. Of course, you can always commit your changes more often than that, if you wish. It can be good to get into a habit of committing your changes any time you make a significant modification, or when you stop working on the project for a bit."
   ]
  },
  {
   "cell_type": "markdown",
   "metadata": {},
   "source": [
    "---\n",
    "## 2. Chess Game Data\n",
    "\n",
    "The data you will work are configurations of a chess end game. It assumes that a pawn is one move away from [\"queening\"](https://en.wikipedia.org/wiki/Promotion_(chess)) and \n",
    "the other pieces can be moved to perform different offensive or defensive actions. For each of the 36 potential features, there are several potential values for each (entries in a given column). **The details of the data matter a bit less for our purposes, but we are attempting to predict the won/loss by a given side.** If you really want to know about the data, you can look into a [classic text on Artificial Intelligence by Shapiro](https://www.amazon.com/Encyclopedia-Artificial-Intelligence-Stuart-Shapiro/dp/0471807486).\n",
    "\n",
    "You will first do this with a full model, then investigate how well the model works after a PCA has been done on the data.\n",
    "\n",
    "### 2.1 Read in the data\n",
    "\n",
    "First you need to read in the data from `kr-vs-kp.data`. You can look at `kr-vs-kp.names` to see how the data is structured. But we give you the code for the column naming as there are so many features and they are unlabeled in the `.data` file.\n",
    "\n",
    "```cols = [\"bkblk\",\"bknwy\",\"bkon8\",\"bkona\",\"bkspr\",\"bkxbq\",\"bkxcr\",\"bkxwp\",\"blxwp\",\"bxqsq\",\"cntxt\",\"dsopp\",\"dwipd\",\n",
    " \"hdchk\",\"katri\",\"mulch\",\"qxmsq\",\"r2ar8\",\"reskd\",\"reskr\",\"rimmx\",\"rkxwp\",\"rxmsq\",\"simpl\",\"skach\",\"skewr\",\n",
    " \"skrxp\",\"spcop\",\"stlmt\",\"thrsk\",\"wkcti\",\"wkna8\",\"wknck\",\"wkovl\",\"wkpos\",\"wtoeg\",\"won\"]```\n",
    " \n",
    "<font size=8 color=\"#009600\">&#9998;</font> Do this - Read in the data from `kr-vs-kp.data` using the columns listed above. Print the `.head()` of the dataframe."
   ]
  },
  {
   "cell_type": "code",
   "execution_count": 4,
   "metadata": {},
   "outputs": [
    {
     "data": {
      "text/html": [
       "<div>\n",
       "<style scoped>\n",
       "    .dataframe tbody tr th:only-of-type {\n",
       "        vertical-align: middle;\n",
       "    }\n",
       "\n",
       "    .dataframe tbody tr th {\n",
       "        vertical-align: top;\n",
       "    }\n",
       "\n",
       "    .dataframe thead th {\n",
       "        text-align: right;\n",
       "    }\n",
       "</style>\n",
       "<table border=\"1\" class=\"dataframe\">\n",
       "  <thead>\n",
       "    <tr style=\"text-align: right;\">\n",
       "      <th></th>\n",
       "      <th>bkblk</th>\n",
       "      <th>bknwy</th>\n",
       "      <th>bkon8</th>\n",
       "      <th>bkona</th>\n",
       "      <th>bkspr</th>\n",
       "      <th>bkxbq</th>\n",
       "      <th>bkxcr</th>\n",
       "      <th>bkxwp</th>\n",
       "      <th>blxwp</th>\n",
       "      <th>bxqsq</th>\n",
       "      <th>...</th>\n",
       "      <th>spcop</th>\n",
       "      <th>stlmt</th>\n",
       "      <th>thrsk</th>\n",
       "      <th>wkcti</th>\n",
       "      <th>wkna8</th>\n",
       "      <th>wknck</th>\n",
       "      <th>wkovl</th>\n",
       "      <th>wkpos</th>\n",
       "      <th>wtoeg</th>\n",
       "      <th>won</th>\n",
       "    </tr>\n",
       "  </thead>\n",
       "  <tbody>\n",
       "    <tr>\n",
       "      <th>0</th>\n",
       "      <td>f</td>\n",
       "      <td>f</td>\n",
       "      <td>f</td>\n",
       "      <td>f</td>\n",
       "      <td>t</td>\n",
       "      <td>f</td>\n",
       "      <td>f</td>\n",
       "      <td>f</td>\n",
       "      <td>f</td>\n",
       "      <td>f</td>\n",
       "      <td>...</td>\n",
       "      <td>f</td>\n",
       "      <td>f</td>\n",
       "      <td>f</td>\n",
       "      <td>f</td>\n",
       "      <td>f</td>\n",
       "      <td>f</td>\n",
       "      <td>t</td>\n",
       "      <td>t</td>\n",
       "      <td>n</td>\n",
       "      <td>won</td>\n",
       "    </tr>\n",
       "    <tr>\n",
       "      <th>1</th>\n",
       "      <td>f</td>\n",
       "      <td>f</td>\n",
       "      <td>f</td>\n",
       "      <td>f</td>\n",
       "      <td>t</td>\n",
       "      <td>f</td>\n",
       "      <td>t</td>\n",
       "      <td>f</td>\n",
       "      <td>f</td>\n",
       "      <td>f</td>\n",
       "      <td>...</td>\n",
       "      <td>f</td>\n",
       "      <td>f</td>\n",
       "      <td>f</td>\n",
       "      <td>f</td>\n",
       "      <td>f</td>\n",
       "      <td>f</td>\n",
       "      <td>t</td>\n",
       "      <td>t</td>\n",
       "      <td>n</td>\n",
       "      <td>won</td>\n",
       "    </tr>\n",
       "    <tr>\n",
       "      <th>2</th>\n",
       "      <td>f</td>\n",
       "      <td>f</td>\n",
       "      <td>f</td>\n",
       "      <td>f</td>\n",
       "      <td>f</td>\n",
       "      <td>f</td>\n",
       "      <td>f</td>\n",
       "      <td>f</td>\n",
       "      <td>t</td>\n",
       "      <td>f</td>\n",
       "      <td>...</td>\n",
       "      <td>f</td>\n",
       "      <td>f</td>\n",
       "      <td>f</td>\n",
       "      <td>f</td>\n",
       "      <td>f</td>\n",
       "      <td>f</td>\n",
       "      <td>t</td>\n",
       "      <td>t</td>\n",
       "      <td>n</td>\n",
       "      <td>won</td>\n",
       "    </tr>\n",
       "    <tr>\n",
       "      <th>3</th>\n",
       "      <td>f</td>\n",
       "      <td>f</td>\n",
       "      <td>f</td>\n",
       "      <td>f</td>\n",
       "      <td>f</td>\n",
       "      <td>f</td>\n",
       "      <td>f</td>\n",
       "      <td>f</td>\n",
       "      <td>f</td>\n",
       "      <td>f</td>\n",
       "      <td>...</td>\n",
       "      <td>f</td>\n",
       "      <td>f</td>\n",
       "      <td>f</td>\n",
       "      <td>f</td>\n",
       "      <td>f</td>\n",
       "      <td>f</td>\n",
       "      <td>t</td>\n",
       "      <td>t</td>\n",
       "      <td>n</td>\n",
       "      <td>won</td>\n",
       "    </tr>\n",
       "    <tr>\n",
       "      <th>4</th>\n",
       "      <td>f</td>\n",
       "      <td>f</td>\n",
       "      <td>f</td>\n",
       "      <td>f</td>\n",
       "      <td>f</td>\n",
       "      <td>f</td>\n",
       "      <td>f</td>\n",
       "      <td>f</td>\n",
       "      <td>f</td>\n",
       "      <td>f</td>\n",
       "      <td>...</td>\n",
       "      <td>f</td>\n",
       "      <td>f</td>\n",
       "      <td>t</td>\n",
       "      <td>f</td>\n",
       "      <td>f</td>\n",
       "      <td>f</td>\n",
       "      <td>t</td>\n",
       "      <td>t</td>\n",
       "      <td>n</td>\n",
       "      <td>won</td>\n",
       "    </tr>\n",
       "  </tbody>\n",
       "</table>\n",
       "<p>5 rows × 37 columns</p>\n",
       "</div>"
      ],
      "text/plain": [
       "  bkblk bknwy bkon8 bkona bkspr bkxbq bkxcr bkxwp blxwp bxqsq  ... spcop  \\\n",
       "0     f     f     f     f     t     f     f     f     f     f  ...     f   \n",
       "1     f     f     f     f     t     f     t     f     f     f  ...     f   \n",
       "2     f     f     f     f     f     f     f     f     t     f  ...     f   \n",
       "3     f     f     f     f     f     f     f     f     f     f  ...     f   \n",
       "4     f     f     f     f     f     f     f     f     f     f  ...     f   \n",
       "\n",
       "  stlmt thrsk wkcti wkna8 wknck wkovl wkpos wtoeg  won  \n",
       "0     f     f     f     f     f     t     t     n  won  \n",
       "1     f     f     f     f     f     t     t     n  won  \n",
       "2     f     f     f     f     f     t     t     n  won  \n",
       "3     f     f     f     f     f     t     t     n  won  \n",
       "4     f     t     f     f     f     t     t     n  won  \n",
       "\n",
       "[5 rows x 37 columns]"
      ]
     },
     "execution_count": 4,
     "metadata": {},
     "output_type": "execute_result"
    }
   ],
   "source": [
    "## your code here\n",
    "data = pd.read_fwf(\"kr-vs-kp.data\",delimiter=',')\n",
    "data.set_axis([\"bkblk\",\"bknwy\",\"bkon8\",\"bkona\",\"bkspr\",\"bkxbq\",\"bkxcr\",\"bkxwp\",\"blxwp\",\"bxqsq\",\"cntxt\",\"dsopp\",\"dwipd\",\n",
    " \"hdchk\",\"katri\",\"mulch\",\"qxmsq\",\"r2ar8\",\"reskd\",\"reskr\",\"rimmx\",\"rkxwp\",\"rxmsq\",\"simpl\",\"skach\",\"skewr\",\n",
    " \"skrxp\",\"spcop\",\"stlmt\",\"thrsk\",\"wkcti\",\"wkna8\",\"wknck\",\"wkovl\",\"wkpos\",\"wtoeg\",\"won\"],axis=1,inplace=True)\n",
    "data = data.drop([3195,3196],axis=0)\n",
    "data.head()"
   ]
  },
  {
   "cell_type": "markdown",
   "metadata": {},
   "source": [
    "### 2.2 Imputing the data\n",
    "\n",
    "There are no missing data in this data file, but there are some other issues. \n",
    "\n",
    "When you print the head of this data set, you probably noticed that all the features and labels are strings. We need to replace them with numerical values for modeling. For the `won` column replace winning with a 1 and losing with a 0. For the other columns, there are seven strings. Replace them using the following table:\n",
    "\n",
    "| raw data | replaced |\n",
    "| -------- | -------- |\n",
    "| f | 1 |\n",
    "| l | 2 |\n",
    "| n | 3 |\n",
    "| t | 4 |\n",
    "| w | 5 |\n",
    "| b | 6 |\n",
    "| g | 7 |\n",
    "\n",
    "**Note:** this choice really matters and for the models we have learned can really influence the results of our model. We do this because we need to for the model, but we haven't critically thought about the mapping that makes the most sense. There are other models (e.g., [tree-based alogrithms](https://en.wikipedia.org/wiki/Random_forest)) that can handle these categorical data without this mapping.\n",
    "\n",
    "<font size=8 color=\"#009600\">&#9998;</font> Do this - Replace the entries in the columns as indicated above. Print the `.head()` of the dataframe to show you have succesfull done so."
   ]
  },
  {
   "cell_type": "code",
   "execution_count": 5,
   "metadata": {},
   "outputs": [
    {
     "data": {
      "text/html": [
       "<div>\n",
       "<style scoped>\n",
       "    .dataframe tbody tr th:only-of-type {\n",
       "        vertical-align: middle;\n",
       "    }\n",
       "\n",
       "    .dataframe tbody tr th {\n",
       "        vertical-align: top;\n",
       "    }\n",
       "\n",
       "    .dataframe thead th {\n",
       "        text-align: right;\n",
       "    }\n",
       "</style>\n",
       "<table border=\"1\" class=\"dataframe\">\n",
       "  <thead>\n",
       "    <tr style=\"text-align: right;\">\n",
       "      <th></th>\n",
       "      <th>bkblk</th>\n",
       "      <th>bknwy</th>\n",
       "      <th>bkon8</th>\n",
       "      <th>bkona</th>\n",
       "      <th>bkspr</th>\n",
       "      <th>bkxbq</th>\n",
       "      <th>bkxcr</th>\n",
       "      <th>bkxwp</th>\n",
       "      <th>blxwp</th>\n",
       "      <th>bxqsq</th>\n",
       "      <th>...</th>\n",
       "      <th>spcop</th>\n",
       "      <th>stlmt</th>\n",
       "      <th>thrsk</th>\n",
       "      <th>wkcti</th>\n",
       "      <th>wkna8</th>\n",
       "      <th>wknck</th>\n",
       "      <th>wkovl</th>\n",
       "      <th>wkpos</th>\n",
       "      <th>wtoeg</th>\n",
       "      <th>won</th>\n",
       "    </tr>\n",
       "  </thead>\n",
       "  <tbody>\n",
       "    <tr>\n",
       "      <th>0</th>\n",
       "      <td>1</td>\n",
       "      <td>1</td>\n",
       "      <td>1</td>\n",
       "      <td>1</td>\n",
       "      <td>4</td>\n",
       "      <td>1</td>\n",
       "      <td>1</td>\n",
       "      <td>1</td>\n",
       "      <td>1</td>\n",
       "      <td>1</td>\n",
       "      <td>...</td>\n",
       "      <td>1</td>\n",
       "      <td>1</td>\n",
       "      <td>1</td>\n",
       "      <td>1</td>\n",
       "      <td>1</td>\n",
       "      <td>1</td>\n",
       "      <td>4</td>\n",
       "      <td>4</td>\n",
       "      <td>3</td>\n",
       "      <td>1</td>\n",
       "    </tr>\n",
       "    <tr>\n",
       "      <th>1</th>\n",
       "      <td>1</td>\n",
       "      <td>1</td>\n",
       "      <td>1</td>\n",
       "      <td>1</td>\n",
       "      <td>4</td>\n",
       "      <td>1</td>\n",
       "      <td>4</td>\n",
       "      <td>1</td>\n",
       "      <td>1</td>\n",
       "      <td>1</td>\n",
       "      <td>...</td>\n",
       "      <td>1</td>\n",
       "      <td>1</td>\n",
       "      <td>1</td>\n",
       "      <td>1</td>\n",
       "      <td>1</td>\n",
       "      <td>1</td>\n",
       "      <td>4</td>\n",
       "      <td>4</td>\n",
       "      <td>3</td>\n",
       "      <td>1</td>\n",
       "    </tr>\n",
       "    <tr>\n",
       "      <th>2</th>\n",
       "      <td>1</td>\n",
       "      <td>1</td>\n",
       "      <td>1</td>\n",
       "      <td>1</td>\n",
       "      <td>1</td>\n",
       "      <td>1</td>\n",
       "      <td>1</td>\n",
       "      <td>1</td>\n",
       "      <td>4</td>\n",
       "      <td>1</td>\n",
       "      <td>...</td>\n",
       "      <td>1</td>\n",
       "      <td>1</td>\n",
       "      <td>1</td>\n",
       "      <td>1</td>\n",
       "      <td>1</td>\n",
       "      <td>1</td>\n",
       "      <td>4</td>\n",
       "      <td>4</td>\n",
       "      <td>3</td>\n",
       "      <td>1</td>\n",
       "    </tr>\n",
       "    <tr>\n",
       "      <th>3</th>\n",
       "      <td>1</td>\n",
       "      <td>1</td>\n",
       "      <td>1</td>\n",
       "      <td>1</td>\n",
       "      <td>1</td>\n",
       "      <td>1</td>\n",
       "      <td>1</td>\n",
       "      <td>1</td>\n",
       "      <td>1</td>\n",
       "      <td>1</td>\n",
       "      <td>...</td>\n",
       "      <td>1</td>\n",
       "      <td>1</td>\n",
       "      <td>1</td>\n",
       "      <td>1</td>\n",
       "      <td>1</td>\n",
       "      <td>1</td>\n",
       "      <td>4</td>\n",
       "      <td>4</td>\n",
       "      <td>3</td>\n",
       "      <td>1</td>\n",
       "    </tr>\n",
       "    <tr>\n",
       "      <th>4</th>\n",
       "      <td>1</td>\n",
       "      <td>1</td>\n",
       "      <td>1</td>\n",
       "      <td>1</td>\n",
       "      <td>1</td>\n",
       "      <td>1</td>\n",
       "      <td>1</td>\n",
       "      <td>1</td>\n",
       "      <td>1</td>\n",
       "      <td>1</td>\n",
       "      <td>...</td>\n",
       "      <td>1</td>\n",
       "      <td>1</td>\n",
       "      <td>4</td>\n",
       "      <td>1</td>\n",
       "      <td>1</td>\n",
       "      <td>1</td>\n",
       "      <td>4</td>\n",
       "      <td>4</td>\n",
       "      <td>3</td>\n",
       "      <td>1</td>\n",
       "    </tr>\n",
       "    <tr>\n",
       "      <th>...</th>\n",
       "      <td>...</td>\n",
       "      <td>...</td>\n",
       "      <td>...</td>\n",
       "      <td>...</td>\n",
       "      <td>...</td>\n",
       "      <td>...</td>\n",
       "      <td>...</td>\n",
       "      <td>...</td>\n",
       "      <td>...</td>\n",
       "      <td>...</td>\n",
       "      <td>...</td>\n",
       "      <td>...</td>\n",
       "      <td>...</td>\n",
       "      <td>...</td>\n",
       "      <td>...</td>\n",
       "      <td>...</td>\n",
       "      <td>...</td>\n",
       "      <td>...</td>\n",
       "      <td>...</td>\n",
       "      <td>...</td>\n",
       "      <td>...</td>\n",
       "    </tr>\n",
       "    <tr>\n",
       "      <th>3190</th>\n",
       "      <td>4</td>\n",
       "      <td>1</td>\n",
       "      <td>1</td>\n",
       "      <td>1</td>\n",
       "      <td>1</td>\n",
       "      <td>1</td>\n",
       "      <td>4</td>\n",
       "      <td>1</td>\n",
       "      <td>1</td>\n",
       "      <td>1</td>\n",
       "      <td>...</td>\n",
       "      <td>1</td>\n",
       "      <td>4</td>\n",
       "      <td>1</td>\n",
       "      <td>1</td>\n",
       "      <td>4</td>\n",
       "      <td>1</td>\n",
       "      <td>4</td>\n",
       "      <td>1</td>\n",
       "      <td>3</td>\n",
       "      <td>0</td>\n",
       "    </tr>\n",
       "    <tr>\n",
       "      <th>3191</th>\n",
       "      <td>4</td>\n",
       "      <td>1</td>\n",
       "      <td>1</td>\n",
       "      <td>1</td>\n",
       "      <td>1</td>\n",
       "      <td>1</td>\n",
       "      <td>4</td>\n",
       "      <td>1</td>\n",
       "      <td>1</td>\n",
       "      <td>1</td>\n",
       "      <td>...</td>\n",
       "      <td>1</td>\n",
       "      <td>4</td>\n",
       "      <td>1</td>\n",
       "      <td>1</td>\n",
       "      <td>4</td>\n",
       "      <td>1</td>\n",
       "      <td>4</td>\n",
       "      <td>1</td>\n",
       "      <td>3</td>\n",
       "      <td>0</td>\n",
       "    </tr>\n",
       "    <tr>\n",
       "      <th>3192</th>\n",
       "      <td>4</td>\n",
       "      <td>1</td>\n",
       "      <td>1</td>\n",
       "      <td>1</td>\n",
       "      <td>1</td>\n",
       "      <td>1</td>\n",
       "      <td>4</td>\n",
       "      <td>1</td>\n",
       "      <td>1</td>\n",
       "      <td>1</td>\n",
       "      <td>...</td>\n",
       "      <td>1</td>\n",
       "      <td>4</td>\n",
       "      <td>1</td>\n",
       "      <td>1</td>\n",
       "      <td>4</td>\n",
       "      <td>1</td>\n",
       "      <td>4</td>\n",
       "      <td>1</td>\n",
       "      <td>3</td>\n",
       "      <td>0</td>\n",
       "    </tr>\n",
       "    <tr>\n",
       "      <th>3193</th>\n",
       "      <td>4</td>\n",
       "      <td>1</td>\n",
       "      <td>4</td>\n",
       "      <td>1</td>\n",
       "      <td>1</td>\n",
       "      <td>1</td>\n",
       "      <td>4</td>\n",
       "      <td>1</td>\n",
       "      <td>1</td>\n",
       "      <td>1</td>\n",
       "      <td>...</td>\n",
       "      <td>1</td>\n",
       "      <td>4</td>\n",
       "      <td>1</td>\n",
       "      <td>1</td>\n",
       "      <td>4</td>\n",
       "      <td>1</td>\n",
       "      <td>1</td>\n",
       "      <td>1</td>\n",
       "      <td>3</td>\n",
       "      <td>0</td>\n",
       "    </tr>\n",
       "    <tr>\n",
       "      <th>3194</th>\n",
       "      <td>4</td>\n",
       "      <td>1</td>\n",
       "      <td>4</td>\n",
       "      <td>1</td>\n",
       "      <td>1</td>\n",
       "      <td>1</td>\n",
       "      <td>4</td>\n",
       "      <td>1</td>\n",
       "      <td>1</td>\n",
       "      <td>1</td>\n",
       "      <td>...</td>\n",
       "      <td>1</td>\n",
       "      <td>4</td>\n",
       "      <td>1</td>\n",
       "      <td>1</td>\n",
       "      <td>4</td>\n",
       "      <td>1</td>\n",
       "      <td>1</td>\n",
       "      <td>1</td>\n",
       "      <td>3</td>\n",
       "      <td>0</td>\n",
       "    </tr>\n",
       "  </tbody>\n",
       "</table>\n",
       "<p>3195 rows × 37 columns</p>\n",
       "</div>"
      ],
      "text/plain": [
       "      bkblk  bknwy  bkon8  bkona  bkspr  bkxbq  bkxcr  bkxwp  blxwp  bxqsq  \\\n",
       "0         1      1      1      1      4      1      1      1      1      1   \n",
       "1         1      1      1      1      4      1      4      1      1      1   \n",
       "2         1      1      1      1      1      1      1      1      4      1   \n",
       "3         1      1      1      1      1      1      1      1      1      1   \n",
       "4         1      1      1      1      1      1      1      1      1      1   \n",
       "...     ...    ...    ...    ...    ...    ...    ...    ...    ...    ...   \n",
       "3190      4      1      1      1      1      1      4      1      1      1   \n",
       "3191      4      1      1      1      1      1      4      1      1      1   \n",
       "3192      4      1      1      1      1      1      4      1      1      1   \n",
       "3193      4      1      4      1      1      1      4      1      1      1   \n",
       "3194      4      1      4      1      1      1      4      1      1      1   \n",
       "\n",
       "      ...  spcop  stlmt  thrsk  wkcti  wkna8  wknck  wkovl  wkpos  wtoeg  won  \n",
       "0     ...      1      1      1      1      1      1      4      4      3    1  \n",
       "1     ...      1      1      1      1      1      1      4      4      3    1  \n",
       "2     ...      1      1      1      1      1      1      4      4      3    1  \n",
       "3     ...      1      1      1      1      1      1      4      4      3    1  \n",
       "4     ...      1      1      4      1      1      1      4      4      3    1  \n",
       "...   ...    ...    ...    ...    ...    ...    ...    ...    ...    ...  ...  \n",
       "3190  ...      1      4      1      1      4      1      4      1      3    0  \n",
       "3191  ...      1      4      1      1      4      1      4      1      3    0  \n",
       "3192  ...      1      4      1      1      4      1      4      1      3    0  \n",
       "3193  ...      1      4      1      1      4      1      1      1      3    0  \n",
       "3194  ...      1      4      1      1      4      1      1      1      3    0  \n",
       "\n",
       "[3195 rows x 37 columns]"
      ]
     },
     "execution_count": 5,
     "metadata": {},
     "output_type": "execute_result"
    }
   ],
   "source": [
    "## your code here\n",
    "data['won'] = data['won'].replace('won',1)\n",
    "data['won'] = data['won'].replace('now',0)\n",
    "data = data.replace('f',1)\n",
    "data = data.replace('l',2)\n",
    "data = data.replace('n',3)\n",
    "data = data.replace('t',4)\n",
    "data = data.replace('w',5)\n",
    "data = data.replace('b',6)\n",
    "data = data.replace('g',7)\n",
    "data"
   ]
  },
  {
   "cell_type": "markdown",
   "metadata": {},
   "source": [
    "### 2.3 Separate features and class labels\n",
    "\n",
    "As we have seen in our analyses using `sklearn` it is advantageous to separate our dataframes into `features` and `labels` for the analysis we are intending to do.\n",
    "\n",
    "<font size=8 color=\"#009600\">&#9998;</font> Do this - Separate the data frame into two: a features dataframe and a labels dataframe."
   ]
  },
  {
   "cell_type": "code",
   "execution_count": 6,
   "metadata": {},
   "outputs": [],
   "source": [
    "## your code here\n",
    "features = data.drop(['won'],axis=1)\n",
    "labels = data['won']"
   ]
  },
  {
   "cell_type": "markdown",
   "metadata": {},
   "source": [
    "**Question:** How balanced is your outcome variable? Why does it matter for the outcome to be balanced?"
   ]
  },
  {
   "cell_type": "code",
   "execution_count": 7,
   "metadata": {},
   "outputs": [],
   "source": [
    "won = len(data[data['won']==0])\n",
    "loss = len(data[data['won']==1])"
   ]
  },
  {
   "cell_type": "code",
   "execution_count": 8,
   "metadata": {},
   "outputs": [
    {
     "name": "stdout",
     "output_type": "stream",
     "text": [
      "Number of outcomes as wins: 1527\n",
      "Number of outcomes as losses:1668\n"
     ]
    }
   ],
   "source": [
    "print(f'Number of outcomes as wins: {won}')\n",
    "print(f'Number of outcomes as losses:{loss}')"
   ]
  },
  {
   "cell_type": "markdown",
   "metadata": {},
   "source": [
    "<font size=8 color=\"#009600\">&#9998;</font> We have almost 50/50 outcome for our variables. The reason why we would not want a great disparity in outcomes is due to the training bias we would be creating in our machine when it comes time to create a predictor."
   ]
  },
  {
   "cell_type": "markdown",
   "metadata": {},
   "source": [
    "---\n",
    "## 3. Building an SVC model\n",
    "\n",
    "For this classification problem, we will use an support vector machine. As you learned in the midterm review, we could easily replace this with any `sklearn` classifier we choose. We will use a linear kernel.\n",
    "\n",
    "### 3.1 Splitting the data\n",
    "\n",
    "<font size=8 color=\"#009600\">&#9998;</font> Do this - Split your data into a training and testing set with a train size representing 75% of your data. Print the lengths to show you have the right number of entries."
   ]
  },
  {
   "cell_type": "code",
   "execution_count": 9,
   "metadata": {},
   "outputs": [
    {
     "name": "stdout",
     "output_type": "stream",
     "text": [
      "Length of full list is: 3195 entries (which 75% of that ~2396.0 entries).\n",
      "The length of the training set is: 2396 entries\n"
     ]
    }
   ],
   "source": [
    "## your code here\n",
    "train_labels, test_labels, train_vectors, test_vectors = train_test_split(labels , features, test_size = .25, train_size = .75)\n",
    "print(f'Length of full list is: {len(features)} entries (which 75% of that ~{round(len(features)*.75,0)} entries).')\n",
    "print(f'The length of the training set is: {len(train_vectors)} entries')"
   ]
  },
  {
   "cell_type": "markdown",
   "metadata": {},
   "source": [
    "### 3.2 Modeling the data and evaluting the fit\n",
    "\n",
    "As you have done this a number of times, we ask you to do most of the analysis in one cell.\n",
    "\n",
    "<font size=8 color=\"#009600\">&#9998;</font> Do this - Build a linear SVC model (`C=100`), fit it to the training set, use the test features to predict the outcomes. Evaluate the fit using the confusion matrix and classification report.\n",
    "\n",
    " **Note:** You should look at the documentation on the confusion matrix because the way `sklearn` outputs false positives and false negatives is different from what most images on the web indicate."
   ]
  },
  {
   "cell_type": "code",
   "execution_count": 8,
   "metadata": {},
   "outputs": [
    {
     "name": "stdout",
     "output_type": "stream",
     "text": [
      "[[377   9]\n",
      " [ 18 395]]\n",
      "0.9662077596996246\n"
     ]
    }
   ],
   "source": [
    "#make some temporary variables so you can change this easily\n",
    "SVM = svm.SVC(kernel='linear',C=100)\n",
    "SVM.fit(train_vectors,train_labels)\n",
    "predict_SVM = SVM.predict(test_vectors)\n",
    "\n",
    "print(confusion_matrix(test_labels, predict_SVM, labels=range(2)))\n",
    "print(SVM.score(test_vectors,test_labels))"
   ]
  },
  {
   "cell_type": "markdown",
   "metadata": {},
   "source": [
    "**Question:** How accurate is your model? What eveidence are you using to determine that? How many false positives and false negatives does it predict?"
   ]
  },
  {
   "cell_type": "markdown",
   "metadata": {},
   "source": [
    "<font size=8 color=\"#009600\">&#9998;</font> My model is ~95.6% accurate, and has 14 false positives and 21 false negatives."
   ]
  },
  {
   "cell_type": "markdown",
   "metadata": {},
   "source": [
    "---\n",
    "## 4. Finding and using the best hyperparameters\n",
    "\n",
    "We have fit one model and determined it's performance, but is it the best model? We can use `GridSearchCV` to find the best model (given our choices of parameters). Once we do that, we will use that best model going forward. **Note:** you would typically rerun this grid search in a production environment to continue to verify the best model, but we are not for the sake of speed.\n",
    "\n",
    "### 4.1 Grid search\n",
    "\n",
    "<font size=8 color=\"#009600\">&#9998;</font> Do this - Using the following parameters (`C` = 1, 10, 100, 1000 and `gamma` = 1e-4, 1e-3, 0.01, 0.1) for both a `linear` and `rbf` kernel use `GridSearchCV` with the `SVC()` model to find the best fit parameters. Print the \"best estimators\"."
   ]
  },
  {
   "cell_type": "code",
   "execution_count": null,
   "metadata": {},
   "outputs": [
    {
     "name": "stdout",
     "output_type": "stream",
     "text": [
      "Fitting the classifier to the training set\n"
     ]
    }
   ],
   "source": [
    "## your code here\n",
    "\n",
    "#make some temporary variables so you can change this easily\n",
    "tmp_vectors = train_vectors\n",
    "tmp_labels = train_labels\n",
    "\n",
    "print(\"Fitting the classifier to the training set\")\n",
    "param_grid = {'C': [1e3, 5e3, 1e4, 5e4, 1e5],\n",
    "              'gamma': [0.0001, 0.0005, 0.001, 0.005, 0.01, 0.1], }\n",
    "# make a classifier by searching over a classifier and the parameter grid\n",
    "clf = GridSearchCV(SVC(kernel='linear', class_weight='balanced'), param_grid)\n",
    "# we have a \"good\" classifier (according to GridSearchCV), how's it look\n",
    "clf = clf.fit(tmp_vectors, tmp_labels)\n",
    "print(\"Best estimator found by grid search:\")\n",
    "print(clf.best_estimator_)\n"
   ]
  },
  {
   "cell_type": "markdown",
   "metadata": {},
   "source": [
    "### 4.2 Evaluating the best fit model\n",
    "\n",
    "Now that we have found the \"best estimators\", let's determine how good the fit is.\n",
    "\n",
    "<font size=8 color=\"#009600\">&#9998;</font> I let my computer sit for 3 hours and it would not complete the code above, as in it wouldn't even complete and give me an error code at the very least.\n",
    "\n",
    "**Note:** You should look at the documentation on the confusion matrix because the way `sklearn` outputs false positives and false negatives is different from what most images on the web indicate."
   ]
  },
  {
   "cell_type": "code",
   "execution_count": 24,
   "metadata": {},
   "outputs": [
    {
     "name": "stdout",
     "output_type": "stream",
     "text": [
      "[[367  23]\n",
      " [  9 400]]\n",
      "0.9599499374217773\n"
     ]
    }
   ],
   "source": [
    "## your code here\n",
    "# due to not finding the \"best estimator\" I couldn't change any of the values in SVC to get a better estamite but to show \n",
    "# I at least had an idea of what is going on I set up the code below minus the actual \"best estimator\"\n",
    "\n",
    "# I would've put the best estimator values in the SVC parenthasese and then ran the rest\n",
    "# If you have the best estimator and put it in all the code below should run still\n",
    "best_SVM = svm.SVC(kernel='linear', C=100)\n",
    "\n",
    "best_SVM.fit(train_vectors,train_labels)\n",
    "predict_best_SVM = best_SVM.predict(test_vectors)\n",
    "\n",
    "print(confusion_matrix(test_labels, predict_best_SVM, labels=range(2)))\n",
    "print(best_SVM.score(test_vectors,test_labels))"
   ]
  },
  {
   "cell_type": "markdown",
   "metadata": {},
   "source": [
    "**Question:** How accurate is this best model? What evidence are you using to determine that? How many false positives and false negatives does it predict?"
   ]
  },
  {
   "cell_type": "markdown",
   "metadata": {},
   "source": [
    "<font size=8 color=\"#009600\">&#9998;</font> I could not see the best estimator so my answer is the same as 3.2 with what I ran this time."
   ]
  },
  {
   "cell_type": "markdown",
   "metadata": {},
   "source": [
    "---\n",
    "## 5. Using Principal Components\n",
    "\n",
    "The full model uses 36 features to predict the results. And you likely found that the model is incredibly accurate. But in some cases, we might have even more features (which means much more computational time), and we might not need nearly the level of accuracy we can achieve with the full data set. So, we will see how close we can get with fewer features. But instead of simply removing features, we will use a PCA to determine the featurse that contribute the most the model (through their accounted variance) and use those to build our SVC model.\n",
    "\n",
    "### 5.1 Building a PCA\n",
    "\n",
    "We will start with a small number of components (say, 4) to see how well we can predict the outcomes of the games.\n",
    "\n",
    "<font size=8 color=\"#009600\">&#9998;</font> Do this - Using `PCA()`, fit a pca to your training features with 4 components. Transform both the test and training features using this pca. Plot the `explained_variance_` versus component number."
   ]
  },
  {
   "cell_type": "code",
   "execution_count": 30,
   "metadata": {},
   "outputs": [
    {
     "name": "stdout",
     "output_type": "stream",
     "text": [
      " The mean variance for 34 components is: 0.11.\n"
     ]
    }
   ],
   "source": [
    "## your code here\n",
    "#Set up the pca object with the number of compoents we want to find\n",
    "pca = PCA(n_components= 4, whiten=True)\n",
    "pca.fit(train_vectors)\n",
    "#Transform the data to the pca model.\n",
    "pca_train_vectors = pca.transform(train_vectors)\n",
    "pca_test_vectors = pca.transform(test_vectors)\n",
    "# Getting the explained varience\n",
    "variance = round(np.mean(pca.explained_variance_ratio_),2)\n",
    "print(f' The mean variance for 34 components is: {variance}.')\n"
   ]
  },
  {
   "cell_type": "markdown",
   "metadata": {},
   "source": [
    "**Question:** What is the total explained variance captured by this PCA (we will use this later, just quote the number)? How well do you think a model with this many featuers will perform? Why?"
   ]
  },
  {
   "cell_type": "markdown",
   "metadata": {},
   "source": [
    "<font size=8 color=\"#009600\">&#9998;</font> Answer here."
   ]
  },
  {
   "cell_type": "markdown",
   "metadata": {},
   "source": [
    "### 5.2 Fit and Evaluate an SVC model\n",
    "\n",
    "Using the pca transformed features, we will train and test an SVC model using the \"best estimators\".\n",
    "\n",
    "<font size=8 color=\"#009600\">&#9998;</font> Do this - Using the pca transformed training data, build and train an SVC model. Predict the classes using the pca transformed test data. Evaluate the model using the classfication report, and the confusion matrix."
   ]
  },
  {
   "cell_type": "code",
   "execution_count": 23,
   "metadata": {},
   "outputs": [
    {
     "name": "stdout",
     "output_type": "stream",
     "text": [
      "[[172 218]\n",
      " [109 300]]\n",
      "0.590738423028786\n"
     ]
    }
   ],
   "source": [
    "## your code here\n",
    "pca_SVM = svm.SVC(kernel='linear',C=100)\n",
    "pca_SVM.fit(pca_train_vectors, train_labels)\n",
    "\n",
    "predict_pca_SVM = pca_SVM.predict(pca_test_vectors)\n",
    "\n",
    "print(confusion_matrix(test_labels, predict_pca_SVM, labels=range(2)))\n",
    "print(pca_SVM.score(pca_test_vectors,test_labels))\n"
   ]
  },
  {
   "cell_type": "markdown",
   "metadata": {},
   "source": [
    "**Question:** How accurate is this model? What evidence are you using to determine that? How many false positives and false negatives does it predict? How does it compare to the full model?"
   ]
  },
  {
   "cell_type": "markdown",
   "metadata": {},
   "source": [
    "<font size=8 color=\"#009600\">&#9998;</font> This model is straight garbage, both the confusion matrix and the accuracy score shows that is just barely over the threshold of straight guessing. We have 218 fp and 109 fn, which is way worse in comparision to the full model."
   ]
  },
  {
   "cell_type": "markdown",
   "metadata": {},
   "source": [
    "### 5.3 Repeat your analysis with more components\n",
    "\n",
    "You probably found that the model with 4 features didn't work so well. What if we increase the number of components (say to 30, which is still 6 fewer than the full data set). What happens now?\n",
    "\n",
    "<font size=8 color=\"#009600\">&#9998;</font> Do this - Repeat your analysis from 5.1 and 5.2 using 30 components instead."
   ]
  },
  {
   "cell_type": "code",
   "execution_count": 29,
   "metadata": {},
   "outputs": [
    {
     "name": "stdout",
     "output_type": "stream",
     "text": [
      " The mean variance for 30 components is: 0.03.\n",
      "[[360  30]\n",
      " [ 10 399]]\n",
      "0.9499374217772215\n"
     ]
    }
   ],
   "source": [
    "## your code here\n",
    "#Set up the pca object with the number of compoents we want to find\n",
    "pca = PCA(n_components= 30, whiten=True)\n",
    "pca.fit(train_vectors)\n",
    "#Transform the data to the pca model.\n",
    "pca_train_vectors = pca.transform(train_vectors)\n",
    "pca_test_vectors = pca.transform(test_vectors)\n",
    "pca_SVM = svm.SVC(kernel='linear',C=100)\n",
    "pca_SVM.fit(pca_train_vectors, train_labels)\n",
    "variance = round(np.mean(pca.explained_variance_ratio_),2)\n",
    "print(f' The mean variance for 30 components is: {variance}.')\n",
    "\n",
    "predict_pca_SVM = pca_SVM.predict(pca_test_vectors)\n",
    "\n",
    "print(confusion_matrix(test_labels, predict_pca_SVM, labels=range(2)))\n",
    "print(pca_SVM.score(pca_test_vectors,test_labels))\n"
   ]
  },
  {
   "cell_type": "markdown",
   "metadata": {},
   "source": [
    "**Question:** What is the total explained variance captured by this PCA? How accurate is this model? What evidence are you using to determine that? How many false positives and false negatives does it predict? How does it compare to the 4 component model? To the full model?"
   ]
  },
  {
   "cell_type": "markdown",
   "metadata": {},
   "source": [
    "<font size=8 color=\"#009600\">&#9998;</font> The mean total explained varience is .03 which is a lot less deviation than 4 components had. This model is ~94% accurate shown by the accuracy score. The model holds 30 fp and 10 fn, making it way better than the 4 component model and very similar to the full model albeit not identical as it is still a little worse (not by much though)."
   ]
  },
  {
   "cell_type": "markdown",
   "metadata": {},
   "source": [
    "---\n",
    "## 6. How well does a PCA work?\n",
    "\n",
    "Clearly, the number of components we use in our PCA matters. Let's investigate how they matter by systematically building a model for any number of selected components.\n",
    "\n",
    "### 6.1 Accuracy vs. Components\n",
    "\n",
    "We will do this by writing a function that creates the PCA, the SVC model, fits the training data, predict the labels using test data, and returns the accuracy scores and the explained variance. So your function will take as input:\n",
    "* the number of components\n",
    "* the training features\n",
    "* the test features\n",
    "* the training labels\n",
    "* the test labels\n",
    "and it will return the accuracy scores for an SVC model fit to pca transformed features and the total explained variance.\n",
    "\n",
    "<font size=8 color=\"#009600\">&#9998;</font> Do this - Create this function, which you will use in the next section."
   ]
  },
  {
   "cell_type": "code",
   "execution_count": 49,
   "metadata": {},
   "outputs": [],
   "source": [
    "## your code here\n",
    "def Model_Finder(component,train_features, test_features, train_labels, test_labels):\n",
    "\n",
    "    pca = PCA(n_components= component, whiten=True)\n",
    "    pca.fit(train_vectors,train_labels)\n",
    "    #Transform the data to the pca model.\n",
    "    pca_train_vectors = pca.transform(train_vectors)\n",
    "    pca_test_vectors = pca.transform(test_vectors)\n",
    "    pca_SVM = svm.SVC(kernel='linear',C=100)\n",
    "    pca_SVM.fit(pca_train_vectors, train_labels)\n",
    "    \n",
    "    accuracy = pca_SVM.score(pca_test_vectors,test_labels)\n",
    "    variance = round(np.mean(pca.explained_variance_ratio_),2)\n",
    "\n",
    "    \n",
    "    accuracy = pca_SVM.score(pca_test_vectors,test_labels)\n",
    "    variance = round(np.mean(pca.explained_variance_ratio_),2)\n",
    "    return accuracy, variance"
   ]
  },
  {
   "cell_type": "code",
   "execution_count": 50,
   "metadata": {},
   "outputs": [
    {
     "name": "stdout",
     "output_type": "stream",
     "text": [
      "0.7008760951188986 0.1\n"
     ]
    }
   ],
   "source": [
    "    component = 5\n",
    "    pca = PCA(n_components= component, whiten=True)\n",
    "    pca.fit(train_vectors,train_labels)\n",
    "    #Transform the data to the pca model.\n",
    "    pca_train_vectors = pca.transform(train_vectors)\n",
    "    pca_test_vectors = pca.transform(test_vectors)\n",
    "    pca_SVM = svm.SVC(kernel='linear',C=100)\n",
    "    pca_SVM.fit(pca_train_vectors, train_labels)\n",
    "    \n",
    "    accuracy = pca_SVM.score(pca_test_vectors,test_labels)\n",
    "    variance = round(np.mean(pca.explained_variance_ratio_),2)\n",
    "    print(accuracy,variance)"
   ]
  },
  {
   "cell_type": "markdown",
   "metadata": {},
   "source": [
    "### 6.2 Compute accuracies\n",
    "\n",
    "Now that you have created a function that returns the accuracy for a given number of components, we will use that to plot the how the accuracy of your SVC model changes when we increase the number of components used in the PCA.\n",
    "\n",
    "<font size=8 color=\"#009600\">&#9998;</font> Do this - For 1 to 36 components, use your function above to compute and store (as a list) the accuracy of your models."
   ]
  },
  {
   "cell_type": "code",
   "execution_count": 56,
   "metadata": {},
   "outputs": [],
   "source": [
    "## your code here\n",
    "components = [1,2,3,4,5,6,7,8,9,10,11,12,13,14,15,16,17,18,19,20,21,22,23,24,25,26,27,28,29,30,31,32,33,34,35,36]\n",
    "accuracy_list =[]\n",
    "variance_list = []\n",
    "accuracy, variance = Model_Finder(1, train_vectors, test_vectors , train_labels, test_labels )\n",
    "accuracy_list.append(accuracy)\n",
    "variance_list.append(variance)\n",
    "accuracy, variance = Model_Finder(2, train_vectors, test_vectors , train_labels, test_labels )\n",
    "accuracy_list.append(accuracy)\n",
    "variance_list.append(variance)\n",
    "accuracy, variance = Model_Finder(3, train_vectors, test_vectors , train_labels, test_labels )\n",
    "accuracy_list.append(accuracy)\n",
    "variance_list.append(variance)\n",
    "accuracy, variance = Model_Finder(4, train_vectors, test_vectors , train_labels, test_labels )\n",
    "accuracy_list.append(accuracy)\n",
    "variance_list.append(variance)\n",
    "accuracy, variance = Model_Finder(5, train_vectors, test_vectors , train_labels, test_labels )\n",
    "accuracy_list.append(accuracy)\n",
    "variance_list.append(variance)\n",
    "accuracy, variance = Model_Finder(6, train_vectors, test_vectors , train_labels, test_labels )\n",
    "accuracy_list.append(accuracy)\n",
    "variance_list.append(variance)\n",
    "accuracy, variance = Model_Finder(7, train_vectors, test_vectors , train_labels, test_labels )\n",
    "accuracy_list.append(accuracy)\n",
    "variance_list.append(variance)\n",
    "accuracy, variance = Model_Finder(8, train_vectors, test_vectors , train_labels, test_labels )\n",
    "accuracy_list.append(accuracy)\n",
    "variance_list.append(variance)\n",
    "accuracy, variance = Model_Finder(9, train_vectors, test_vectors , train_labels, test_labels )\n",
    "accuracy_list.append(accuracy)\n",
    "variance_list.append(variance)\n",
    "accuracy, variance = Model_Finder(10, train_vectors, test_vectors , train_labels, test_labels )\n",
    "accuracy_list.append(accuracy)\n",
    "variance_list.append(variance)\n",
    "accuracy, variance = Model_Finder(11, train_vectors, test_vectors , train_labels, test_labels )\n",
    "accuracy_list.append(accuracy)\n",
    "variance_list.append(variance)\n",
    "accuracy, variance = Model_Finder(12, train_vectors, test_vectors , train_labels, test_labels )\n",
    "accuracy_list.append(accuracy)\n",
    "variance_list.append(variance)\n",
    "accuracy, variance = Model_Finder(13, train_vectors, test_vectors , train_labels, test_labels )\n",
    "accuracy_list.append(accuracy)\n",
    "variance_list.append(variance)\n",
    "accuracy, variance = Model_Finder(14, train_vectors, test_vectors , train_labels, test_labels )\n",
    "accuracy_list.append(accuracy)\n",
    "variance_list.append(variance)\n",
    "accuracy, variance = Model_Finder(15, train_vectors, test_vectors , train_labels, test_labels )\n",
    "accuracy_list.append(accuracy)\n",
    "variance_list.append(variance)\n",
    "accuracy, variance = Model_Finder(16, train_vectors, test_vectors , train_labels, test_labels )\n",
    "accuracy_list.append(accuracy)\n",
    "variance_list.append(variance)\n",
    "accuracy, variance = Model_Finder(17, train_vectors, test_vectors , train_labels, test_labels )\n",
    "accuracy_list.append(accuracy)\n",
    "variance_list.append(variance)\n",
    "accuracy, variance = Model_Finder(18, train_vectors, test_vectors , train_labels, test_labels )\n",
    "accuracy_list.append(accuracy)\n",
    "variance_list.append(variance)\n",
    "accuracy, variance = Model_Finder(19, train_vectors, test_vectors , train_labels, test_labels )\n",
    "accuracy_list.append(accuracy)\n",
    "variance_list.append(variance)\n",
    "accuracy, variance = Model_Finder(20, train_vectors, test_vectors , train_labels, test_labels )\n",
    "accuracy_list.append(accuracy)\n",
    "variance_list.append(variance)\n",
    "accuracy, variance = Model_Finder(21, train_vectors, test_vectors , train_labels, test_labels )\n",
    "accuracy_list.append(accuracy)\n",
    "variance_list.append(variance)\n",
    "accuracy, variance = Model_Finder(22, train_vectors, test_vectors , train_labels, test_labels )\n",
    "accuracy_list.append(accuracy)\n",
    "variance_list.append(variance)\n",
    "accuracy, variance = Model_Finder(23, train_vectors, test_vectors , train_labels, test_labels )\n",
    "accuracy_list.append(accuracy)\n",
    "variance_list.append(variance)\n",
    "accuracy, variance = Model_Finder(24, train_vectors, test_vectors , train_labels, test_labels )\n",
    "accuracy_list.append(accuracy)\n",
    "variance_list.append(variance)\n",
    "accuracy, variance = Model_Finder(25, train_vectors, test_vectors , train_labels, test_labels )\n",
    "accuracy_list.append(accuracy)\n",
    "variance_list.append(variance)\n",
    "accuracy, variance = Model_Finder(26, train_vectors, test_vectors , train_labels, test_labels )\n",
    "accuracy_list.append(accuracy)\n",
    "variance_list.append(variance)\n",
    "accuracy, variance = Model_Finder(27, train_vectors, test_vectors , train_labels, test_labels )\n",
    "accuracy_list.append(accuracy)\n",
    "variance_list.append(variance)\n",
    "accuracy, variance = Model_Finder(28, train_vectors, test_vectors , train_labels, test_labels )\n",
    "accuracy_list.append(accuracy)\n",
    "variance_list.append(variance)\n",
    "accuracy, variance = Model_Finder(29, train_vectors, test_vectors , train_labels, test_labels )\n",
    "accuracy_list.append(accuracy)\n",
    "variance_list.append(variance)\n",
    "accuracy, variance = Model_Finder(30, train_vectors, test_vectors , train_labels, test_labels )\n",
    "accuracy_list.append(accuracy)\n",
    "variance_list.append(variance)\n",
    "accuracy, variance = Model_Finder(31, train_vectors, test_vectors , train_labels, test_labels )\n",
    "accuracy_list.append(accuracy)\n",
    "variance_list.append(variance)\n",
    "accuracy, variance = Model_Finder(32, train_vectors, test_vectors , train_labels, test_labels )\n",
    "accuracy_list.append(accuracy)\n",
    "variance_list.append(variance)\n",
    "accuracy, variance = Model_Finder(33, train_vectors, test_vectors , train_labels, test_labels )\n",
    "accuracy_list.append(accuracy)\n",
    "variance_list.append(variance)\n",
    "accuracy, variance = Model_Finder(34, train_vectors, test_vectors , train_labels, test_labels )\n",
    "accuracy_list.append(accuracy)\n",
    "variance_list.append(variance)\n",
    "accuracy, variance = Model_Finder(35, train_vectors, test_vectors , train_labels, test_labels )\n",
    "accuracy_list.append(accuracy)\n",
    "variance_list.append(variance)\n",
    "accuracy, variance = Model_Finder(36, train_vectors, test_vectors , train_labels, test_labels )\n",
    "accuracy_list.append(accuracy)\n",
    "variance_list.append(variance)"
   ]
  },
  {
   "cell_type": "markdown",
   "metadata": {},
   "source": [
    "### 6.3 Plot accuracy vs number of components\n",
    "\n",
    "Now that we have those numbers, it makes sense to look at the accuracy vs components.\n",
    "\n",
    "<font size=8 color=\"#009600\">&#9998;</font> Do this - Plot the accuracy vs components."
   ]
  },
  {
   "cell_type": "code",
   "execution_count": 57,
   "metadata": {},
   "outputs": [
    {
     "data": {
      "text/plain": [
       "Text(0.5, 1.0, 'Component vs. Accuracy')"
      ]
     },
     "execution_count": 57,
     "metadata": {},
     "output_type": "execute_result"
    },
    {
     "data": {
      "image/png": "[encoded data removed]",
      "text/plain": [
       "<Figure size 432x288 with 1 Axes>"
      ]
     },
     "metadata": {
      "needs_background": "light"
     },
     "output_type": "display_data"
    }
   ],
   "source": [
    "## your code here\n",
    "plt.plot(components, accuracy_list)\n",
    "plt.xlabel('Number of Components')\n",
    "plt.ylabel('Accuracy Score')\n",
    "plt.title('Component vs. Accuracy')"
   ]
  },
  {
   "cell_type": "markdown",
   "metadata": {},
   "source": [
    "**Question:** Where does it seem like we have diminishing returns, that is, no major increase in accuracy as we add additional components to the PCA?"
   ]
  },
  {
   "cell_type": "markdown",
   "metadata": {},
   "source": [
    "<font size=8 color=\"#009600\">&#9998;</font> Around 15ish components."
   ]
  },
  {
   "cell_type": "markdown",
   "metadata": {},
   "source": [
    "### 6.4 Plot total explained variance vs number of components\n",
    "\n",
    "<font size=8 color=\"#009600\">&#9998;</font> Do this - Plot the total explained variance vs components. "
   ]
  },
  {
   "cell_type": "code",
   "execution_count": 59,
   "metadata": {},
   "outputs": [
    {
     "data": {
      "text/plain": [
       "Text(0.5, 1.0, 'Component vs. Variance')"
      ]
     },
     "execution_count": 59,
     "metadata": {},
     "output_type": "execute_result"
    },
    {
     "data": {
      "image/png": "[encoded data removed]",
      "text/plain": [
       "<Figure size 432x288 with 1 Axes>"
      ]
     },
     "metadata": {
      "needs_background": "light"
     },
     "output_type": "display_data"
    }
   ],
   "source": [
    "## your code here\n",
    "plt.plot(components, variance_list)\n",
    "plt.xlabel('Number of Components')\n",
    "plt.ylabel('Variance')\n",
    "plt.title('Component vs. Variance')"
   ]
  },
  {
   "cell_type": "markdown",
   "metadata": {},
   "source": [
    "**Question:** Where does it seem like we have diminishing returns, that is, no major increase in explained variance as we add additional components to the PCA? How does that number of components compare to the diminishing returns for accuracy?"
   ]
  },
  {
   "cell_type": "markdown",
   "metadata": {},
   "source": [
    "<font size=8 color=\"#009600\">&#9998;</font> Its subjectable, but I would say around 15, 20 or 30 could be good spots due to the step like pattern we are getting. It all dependson how nitpicky you want to get with it honestly. Well it works perfect if you do decide to go with 15, however if you decide to go with the others its not as good of a fit."
   ]
  },
  {
   "cell_type": "markdown",
   "metadata": {},
   "source": [
    "---\n",
    "## 7. Assignment wrap-up¶\n",
    "Please fill out the form that appears when you run the code below. **You must completely fill this out in order to receive credit for the assignment!**"
   ]
  },
  {
   "cell_type": "code",
   "execution_count": 60,
   "metadata": {},
   "outputs": [
    {
     "data": {
      "text/html": [
       "\n",
       "<iframe \n",
       "\tsrc=\"https://docs.google.com/forms/d/e/1FAIpQLSc0IBD2mdn4TcRyi-KNXVtS3aEg6U4mOFq2MOciLQyEP4bg1w/viewform?usp=sf_link\" \n",
       "\twidth=\"800px\" \n",
       "\theight=\"600px\" \n",
       "\tframeborder=\"0\" \n",
       "\tmarginheight=\"0\" \n",
       "\tmarginwidth=\"0\">\n",
       "\tLoading...\n",
       "</iframe>\n"
      ],
      "text/plain": [
       "<IPython.core.display.HTML object>"
      ]
     },
     "execution_count": 60,
     "metadata": {},
     "output_type": "execute_result"
    }
   ],
   "source": [
    "from IPython.display import HTML\n",
    "HTML(\n",
    "\"\"\"\n",
    "<iframe \n",
    "\tsrc=\"https://docs.google.com/forms/d/e/1FAIpQLSc0IBD2mdn4TcRyi-KNXVtS3aEg6U4mOFq2MOciLQyEP4bg1w/viewform?usp=sf_link\" \n",
    "\twidth=\"800px\" \n",
    "\theight=\"600px\" \n",
    "\tframeborder=\"0\" \n",
    "\tmarginheight=\"0\" \n",
    "\tmarginwidth=\"0\">\n",
    "\tLoading...\n",
    "</iframe>\n",
    "\"\"\"\n",
    ")"
   ]
  },
  {
   "cell_type": "markdown",
   "metadata": {},
   "source": [
    "### Congratulations, you're done!\n",
    "Submit this assignment by uploading it to the course Desire2Learn web page. Go to the \"Homework Assignments\" folder, find the dropbox link for Homework 4, and upload your notebook."
   ]
  },
  {
   "cell_type": "code",
   "execution_count": null,
   "metadata": {},
   "outputs": [],
   "source": []
  }
 ],
 "metadata": {
  "kernelspec": {
   "display_name": "Python 3",
   "language": "python",
   "name": "python3"
  },
  "language_info": {
   "codemirror_mode": {
    "name": "ipython",
    "version": 3
   },
   "file_extension": ".py",
   "mimetype": "text/x-python",
   "name": "python",
   "nbconvert_exporter": "python",
   "pygments_lexer": "ipython3",
   "version": "3.8.3"
  }
 },
 "nbformat": 4,
 "nbformat_minor": 4
}
